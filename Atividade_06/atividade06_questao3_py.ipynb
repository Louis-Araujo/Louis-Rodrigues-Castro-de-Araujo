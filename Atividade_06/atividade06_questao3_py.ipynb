{
  "nbformat": 4,
  "nbformat_minor": 0,
  "metadata": {
    "colab": {
      "provenance": [],
      "authorship_tag": "ABX9TyNkAhatDPLdup38vqCurWSL",
      "include_colab_link": true
    },
    "kernelspec": {
      "name": "python3",
      "display_name": "Python 3"
    },
    "language_info": {
      "name": "python"
    }
  },
  "cells": [
    {
      "cell_type": "markdown",
      "metadata": {
        "id": "view-in-github",
        "colab_type": "text"
      },
      "source": [
        "<a href=\"https://colab.research.google.com/github/Louis-Araujo/Louis-Rodrigues-Castro-de-Araujo/blob/main/atividade06_questao3_py.ipynb\" target=\"_parent\"><img src=\"https://colab.research.google.com/assets/colab-badge.svg\" alt=\"Open In Colab\"/></a>"
      ]
    },
    {
      "cell_type": "markdown",
      "source": [
        "Descrição: Crie uma função conversor_temperatura() que leia uma temperatura em\n",
        "graus Celsius fornecida pelo usuário, converta para Fahrenheit e imprima o resultado. A\n",
        "fórmula de conversão é: F = C * 9/5 + 32."
      ],
      "metadata": {
        "id": "W1cEYuF00zAd"
      }
    },
    {
      "cell_type": "code",
      "execution_count": null,
      "metadata": {
        "id": "Fo5PH6lF0kz5"
      },
      "outputs": [],
      "source": [
        "def conversor_temperatura():\n",
        "    try:\n",
        "        # Solicita ao usuário a temperatura em Celsius\n",
        "        celsius = float(input(\"Digite a temperatura em graus Celsius: \"))\n",
        "\n",
        "        # Converte a temperatura para Fahrenheit usando a fórmula\n",
        "        fahrenheit = celsius * 9/5 + 32\n",
        "\n",
        "        # Imprime o resultado\n",
        "        print(f\"A temperatura em Fahrenheit é: {fahrenheit:.2f}\")\n",
        "\n",
        "    except ValueError:\n",
        "        print(\"Por favor, digite um número válido.\")\n",
        "\n"
      ]
    }
  ]
}
