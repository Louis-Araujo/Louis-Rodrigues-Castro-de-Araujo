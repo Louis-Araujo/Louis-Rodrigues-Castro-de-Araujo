{
  "nbformat": 4,
  "nbformat_minor": 0,
  "metadata": {
    "colab": {
      "provenance": [],
      "authorship_tag": "ABX9TyMIfV924bFqGfh5SRCr+vPR",
      "include_colab_link": true
    },
    "kernelspec": {
      "name": "python3",
      "display_name": "Python 3"
    },
    "language_info": {
      "name": "python"
    }
  },
  "cells": [
    {
      "cell_type": "markdown",
      "metadata": {
        "id": "view-in-github",
        "colab_type": "text"
      },
      "source": [
        "<a href=\"https://colab.research.google.com/github/Louis-Araujo/Louis-Rodrigues-Castro-de-Araujo/blob/main/atividade06_questao1_py.ipynb\" target=\"_parent\"><img src=\"https://colab.research.google.com/assets/colab-badge.svg\" alt=\"Open In Colab\"/></a>"
      ]
    },
    {
      "cell_type": "markdown",
      "source": [
        "Crie uma função fatorial(n) que receba um número inteiro n e retorne o\n",
        "fatorial desse número. O fatorial de n é o produto de todos os números inteiros de 1 até\n",
        "n."
      ],
      "metadata": {
        "id": "YtpSnrbWyWKx"
      }
    },
    {
      "cell_type": "code",
      "execution_count": null,
      "metadata": {
        "id": "T_FM-fzgqN2C"
      },
      "outputs": [],
      "source": [
        "def fatorial(n):\n",
        "    # Verificar se o valor de n é negativo\n",
        "    if n < 0:\n",
        "        return \"Fatorial não é definido para números negativos.\"\n",
        "\n",
        "    # O fatorial de 0 é 1\n",
        "    if n == 0:\n",
        "        return 1\n",
        "\n",
        "    resultado = 1\n",
        "    for i in range(1, n + 1):\n",
        "        resultado *= i\n",
        "\n",
        "    return resultado\n"
      ]
    }
  ]
}
