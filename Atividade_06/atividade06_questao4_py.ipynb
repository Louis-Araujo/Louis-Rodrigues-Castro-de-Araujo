{
  "nbformat": 4,
  "nbformat_minor": 0,
  "metadata": {
    "colab": {
      "provenance": [],
      "authorship_tag": "ABX9TyPs5DaV8eEHIUscs2j9e9mM",
      "include_colab_link": true
    },
    "kernelspec": {
      "name": "python3",
      "display_name": "Python 3"
    },
    "language_info": {
      "name": "python"
    }
  },
  "cells": [
    {
      "cell_type": "markdown",
      "metadata": {
        "id": "view-in-github",
        "colab_type": "text"
      },
      "source": [
        "<a href=\"https://colab.research.google.com/github/Louis-Araujo/Louis-Rodrigues-Castro-de-Araujo/blob/main/atividade06_questao4_py.ipynb\" target=\"_parent\"><img src=\"https://colab.research.google.com/assets/colab-badge.svg\" alt=\"Open In Colab\"/></a>"
      ]
    },
    {
      "cell_type": "markdown",
      "source": [
        "Descrição: Crie uma função soma_matrizes(m1, m2) que receba duas matrizes 2x2 e\n",
        "retorne uma nova matriz, que seja a soma das duas matrizes recebidas."
      ],
      "metadata": {
        "id": "8J1_SFco1NlB"
      }
    },
    {
      "cell_type": "code",
      "execution_count": null,
      "metadata": {
        "id": "IRva6DCA08TD"
      },
      "outputs": [],
      "source": [
        "def soma_matrizes(m1, m2):\n",
        "    # Verificar se ambas as matrizes são 2x2\n",
        "    if (len(m1) != 2 or len(m2) != 2 or\n",
        "        len(m1[0]) != 2 or len(m2[0]) != 2):\n",
        "        return \"Ambas as matrizes devem ser 2x2.\"\n",
        "\n",
        "    # Criar uma nova matriz para armazenar o resultado da soma\n",
        "    resultado = [[0, 0], [0, 0]]\n",
        "\n",
        "    # Somar os elementos correspondentes das duas matrizes\n",
        "    for i in range(2):\n",
        "        for j in range(2):\n",
        "            resultado[i][j] = m1[i][j] + m2[i][j]\n",
        "\n",
        "    return resultado\n"
      ]
    }
  ]
}
