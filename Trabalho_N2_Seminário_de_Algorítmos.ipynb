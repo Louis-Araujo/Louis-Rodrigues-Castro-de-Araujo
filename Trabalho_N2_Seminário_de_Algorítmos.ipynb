{
  "nbformat": 4,
  "nbformat_minor": 0,
  "metadata": {
    "colab": {
      "provenance": [],
      "authorship_tag": "ABX9TyPyrNpwtbA1CNTxZxWEJaw1",
      "include_colab_link": true
    },
    "kernelspec": {
      "name": "python3",
      "display_name": "Python 3"
    },
    "language_info": {
      "name": "python"
    }
  },
  "cells": [
    {
      "cell_type": "markdown",
      "metadata": {
        "id": "view-in-github",
        "colab_type": "text"
      },
      "source": [
        "<a href=\"https://colab.research.google.com/github/Louis-Araujo/Louis-Rodrigues-Castro-de-Araujo/blob/main/Trabalho_N2_Semin%C3%A1rio_de_Algor%C3%ADtmos.ipynb\" target=\"_parent\"><img src=\"https://colab.research.google.com/assets/colab-badge.svg\" alt=\"Open In Colab\"/></a>"
      ]
    },
    {
      "cell_type": "markdown",
      "source": [
        "Fonte de qual foi extraída a informação da média do peso aparente de resíduos domésticos: 231 kg/m³. Dado retirado de estudo gravimétrico realizado em fortaleza e apresentado no IBEAS: http://connepi.ifal.edu.br/ocs/index.php/connepi/CONNEPI2010/paper/viewFile/167/157\n",
        "\n",
        "Fonte de qual foi extraída a capacidade de um caminhão de lixo (9 toneladas): https://www.revistacaminhoneiro.com.br/saiba-qual-a-capacidade-de-um-caminhao-de-lixo"
      ],
      "metadata": {
        "id": "r5YZoYU9Y0y0"
      }
    },
    {
      "cell_type": "code",
      "source": [
        "import math\n",
        "\n",
        "def solicitar_dados():\n",
        "    cidade = input('Informe o nome da cidade: ')\n",
        "    qnt_rs_cidade = float(input('Informe a quantidade, em kg, de resíduos gerados por mês na cidade: '))\n",
        "    n_bairros = int(input('Informe o número de bairros que a cidade possui: '))\n",
        "\n",
        "    nomes_bairros = []\n",
        "    n_hab_bairro = []\n",
        "\n",
        "    for i in range(n_bairros):\n",
        "        bairro = input(f'Digite o nome do {i+1}º bairro: ')\n",
        "        nomes_bairros.append(bairro)\n",
        "        while True:\n",
        "            n_hab = int(input(f'Digite o número de habitantes do bairro {bairro}: '))\n",
        "            if n_hab >= 0:\n",
        "                n_hab_bairro.append(n_hab)\n",
        "                break\n",
        "            print('Por favor, insira um número maior ou igual a zero para o número de habitantes.')\n",
        "\n",
        "    return cidade, qnt_rs_cidade, nomes_bairros, n_hab_bairro\n",
        "\n",
        "def calcular_residuos_semanal(qnt_rs_cidade, n_hab_bairro):\n",
        "    total_habitantes = sum(n_hab_bairro)\n",
        "    residuos_por_habitante_semanal = (qnt_rs_cidade / 4) / total_habitantes\n",
        "\n",
        "    residuos_por_bairro_semanal = []\n",
        "    for n_hab in n_hab_bairro:\n",
        "        residuos_por_bairro_semanal.append(round(n_hab * residuos_por_habitante_semanal))\n",
        "\n",
        "    return residuos_por_bairro_semanal\n",
        "\n",
        "def calcular_areas_dep(residuos_por_bairro_semanal):\n",
        "    areas_dep = []\n",
        "    for residuos in residuos_por_bairro_semanal:\n",
        "        area_armazenamento = residuos / 231  # Área necessária\n",
        "        area_dep = area_armazenamento * 1.1  # Considera um aumento de 10%\n",
        "        areas_dep.append(area_dep)\n",
        "    return areas_dep\n",
        "\n",
        "def calcular_dimensoes(area_dep):\n",
        "    # Dimensões depósitos\n",
        "    larg_dep_min = 5\n",
        "    compri_dep_min = 10\n",
        "    larg_dep = math.sqrt(area_dep / 2)\n",
        "    compri_dep = math.sqrt(2 * area_dep)\n",
        "    larg_dep = max(larg_dep, larg_dep_min)\n",
        "    compri_dep = max(compri_dep, compri_dep_min)\n",
        "\n",
        "    # Cálculo para o setor de triagem\n",
        "    larg_triagem = 2 * larg_dep\n",
        "    compri_triagem = compri_dep / 2\n",
        "\n",
        "    # Dimensões estação\n",
        "    larg_estacao = larg_triagem\n",
        "    compri_estacao = compri_dep + compri_triagem\n",
        "\n",
        "    return larg_dep, compri_dep, larg_triagem, compri_triagem, larg_estacao, compri_estacao\n",
        "\n",
        "def imprimir_resultados(nomes_bairros, residuos_por_bairro_semanal, areas_dep):\n",
        "    for i, bairro in enumerate(nomes_bairros):\n",
        "        residuos_semanal = residuos_por_bairro_semanal[i]\n",
        "        area_dep = areas_dep[i]\n",
        "\n",
        "        larg_dep, compri_dep, larg_triagem, compri_triagem, larg_estacao, compri_estacao = calcular_dimensoes(area_dep)\n",
        "\n",
        "        print()\n",
        "        print('=-=' * 35)\n",
        "        print()\n",
        "        print(f'Bairro: {bairro}')\n",
        "        print()\n",
        "        print(f'Quantidade de Resíduos Semanais: {residuos_semanal} kg')\n",
        "        print(f'Área necessária de armazenamento: {area_dep:.2f} m²')\n",
        "        print()\n",
        "        print(f'Dimensionamento da Estação de Coleta e Triagem:')\n",
        "        print(f'   - Dimensões da Estação: {larg_estacao:.2f}m de largura x {compri_estacao:.2f}m de comprimento x 7m de altura')\n",
        "        print(f'   - Dimensão dos dois Depósitos de Armazenamento no interior: {larg_dep:.2f}m de largura x {compri_dep:.2f}m de comprimento x 7m de altura')\n",
        "        print(f'   - Dimensões do Setor de Triagem no interior: {larg_triagem:.2f}m de largura x {compri_triagem:.2f}m de comprimento x 7m de altura')\n",
        "        print()\n",
        "        print('=-=' * 35)\n",
        "\n",
        "\n",
        "cidade, qnt_rs_cidade, nomes_bairros, n_hab_bairro = solicitar_dados()\n",
        "residuos_por_bairro_semanal = calcular_residuos_semanal(qnt_rs_cidade, n_hab_bairro)\n",
        "areas_dep = calcular_areas_dep(residuos_por_bairro_semanal)\n",
        "imprimir_resultados(nomes_bairros, residuos_por_bairro_semanal, areas_dep)\n"
      ],
      "metadata": {
        "colab": {
          "base_uri": "https://localhost:8080/"
        },
        "id": "0uwF5eaIEUEm",
        "outputId": "e139c4af-27c4-4ab4-b383-fe69ebe803f1"
      },
      "execution_count": 28,
      "outputs": [
        {
          "output_type": "stream",
          "name": "stdout",
          "text": [
            "Informe o nome da cidade: Cidade dos Sonhos\n",
            "Informe a quantidade, em kg, de resíduos gerados por mês na cidade: 90000\n",
            "Informe o número de bairros que a cidade possui: 2\n",
            "Digite o nome do 1º bairro: A\n",
            "Digite o número de habitantes do bairro A: 400\n",
            "Digite o nome do 2º bairro: B\n",
            "Digite o número de habitantes do bairro B: 300\n",
            "\n",
            "=-==-==-==-==-==-==-==-==-==-==-==-==-==-==-==-==-==-==-==-==-==-==-==-==-==-==-==-==-==-==-==-==-==-==-=\n",
            "\n",
            "Bairro: A\n",
            "\n",
            "Quantidade de Resíduos Semanais: 12857 kg\n",
            "Área necessária de armazenamento: 61.22 m²\n",
            "\n",
            "Dimensionamento da Estação de Coleta e Triagem:\n",
            "   - Dimensões da Estação: 11.07m de largura x 16.60m de comprimento x 7m de altura\n",
            "   - Dimensão dos dois Depósitos de Armazenamento no interior: 5.53m de largura x 11.07m de comprimento x 7m de altura\n",
            "   - Dimensões do Setor de Triagem no interior: 11.07m de largura x 5.53m de comprimento x 7m de altura\n",
            "\n",
            "=-==-==-==-==-==-==-==-==-==-==-==-==-==-==-==-==-==-==-==-==-==-==-==-==-==-==-==-==-==-==-==-==-==-==-=\n",
            "\n",
            "=-==-==-==-==-==-==-==-==-==-==-==-==-==-==-==-==-==-==-==-==-==-==-==-==-==-==-==-==-==-==-==-==-==-==-=\n",
            "\n",
            "Bairro: B\n",
            "\n",
            "Quantidade de Resíduos Semanais: 9643 kg\n",
            "Área necessária de armazenamento: 45.92 m²\n",
            "\n",
            "Dimensionamento da Estação de Coleta e Triagem:\n",
            "   - Dimensões da Estação: 10.00m de largura x 15.00m de comprimento x 7m de altura\n",
            "   - Dimensão dos dois Depósitos de Armazenamento no interior: 5.00m de largura x 10.00m de comprimento x 7m de altura\n",
            "   - Dimensões do Setor de Triagem no interior: 10.00m de largura x 5.00m de comprimento x 7m de altura\n",
            "\n",
            "=-==-==-==-==-==-==-==-==-==-==-==-==-==-==-==-==-==-==-==-==-==-==-==-==-==-==-==-==-==-==-==-==-==-==-=\n"
          ]
        }
      ]
    }
  ]
}