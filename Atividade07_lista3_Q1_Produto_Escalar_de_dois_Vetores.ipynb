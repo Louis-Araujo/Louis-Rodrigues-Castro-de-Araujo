{
  "nbformat": 4,
  "nbformat_minor": 0,
  "metadata": {
    "colab": {
      "provenance": [],
      "authorship_tag": "ABX9TyNMRUcGhmz5JQguvIjjzsSO",
      "include_colab_link": true
    },
    "kernelspec": {
      "name": "python3",
      "display_name": "Python 3"
    },
    "language_info": {
      "name": "python"
    }
  },
  "cells": [
    {
      "cell_type": "markdown",
      "metadata": {
        "id": "view-in-github",
        "colab_type": "text"
      },
      "source": [
        "<a href=\"https://colab.research.google.com/github/Louis-Araujo/Louis-Rodrigues-Castro-de-Araujo/blob/main/Atividade07_lista3_Q1_Produto_Escalar_de_dois_Vetores.ipynb\" target=\"_parent\"><img src=\"https://colab.research.google.com/assets/colab-badge.svg\" alt=\"Open In Colab\"/></a>"
      ]
    },
    {
      "cell_type": "code",
      "execution_count": 1,
      "metadata": {
        "id": "3bnT4Zgou-j_"
      },
      "outputs": [],
      "source": [
        "def produto_escalar(vetor1, vetor2):\n",
        "    if not (isinstance(vetor1, (list, tuple)) and isinstance(vetor2, (list, tuple))):\n",
        "        raise TypeError(\"Ambos os argumentos devem ser listas ou tuplas.\")\n",
        "    if len(vetor1) != len(vetor2):\n",
        "        raise ValueError(\"Os vetores devem ter o mesmo comprimento.\")\n",
        "    produto = sum(map(lambda x, y: x * y, vetor1, vetor2))\n",
        "    return produto\n",
        ""
      ]
    }
  ]
}