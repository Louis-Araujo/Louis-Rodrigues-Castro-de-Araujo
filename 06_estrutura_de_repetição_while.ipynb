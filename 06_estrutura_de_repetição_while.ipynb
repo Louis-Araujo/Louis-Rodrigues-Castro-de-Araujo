{
  "nbformat": 4,
  "nbformat_minor": 0,
  "metadata": {
    "colab": {
      "provenance": [],
      "authorship_tag": "ABX9TyO0dplPjQRr8uFbfW6/CKfD",
      "include_colab_link": true
    },
    "kernelspec": {
      "name": "python3",
      "display_name": "Python 3"
    },
    "language_info": {
      "name": "python"
    }
  },
  "cells": [
    {
      "cell_type": "markdown",
      "metadata": {
        "id": "view-in-github",
        "colab_type": "text"
      },
      "source": [
        "<a href=\"https://colab.research.google.com/github/Louis-Araujo/Louis-Rodrigues-Castro-de-Araujo/blob/main/06_estrutura_de_repeti%C3%A7%C3%A3o_while.ipynb\" target=\"_parent\"><img src=\"https://colab.research.google.com/assets/colab-badge.svg\" alt=\"Open In Colab\"/></a>"
      ]
    },
    {
      "cell_type": "code",
      "execution_count": 4,
      "metadata": {
        "colab": {
          "base_uri": "https://localhost:8080/"
        },
        "id": "loDLq9pqrZmR",
        "outputId": "77e8e901-586a-4dc0-f13b-e2d151184935"
      },
      "outputs": [
        {
          "output_type": "stream",
          "name": "stdout",
          "text": [
            "3 Número primo\n"
          ]
        }
      ],
      "source": [
        "# O algoritmo verifica se um número y\n",
        "# é primo ao tentar dividir y\n",
        "# por todos os números inteiros menores que y\n",
        "# e maior que 1, imprimindo\n",
        "# y ou indicando que\n",
        "# y é primo.\n",
        "y=3\n",
        "x = y // 2\n",
        "while x>1:\n",
        "  if y % x == 0:\n",
        "    print('composto: ', y, 'tem fator', x)\n",
        "    break\n",
        "  x-=1\n",
        "else:\n",
        "  print(y, \"Número primo\")"
      ]
    },
    {
      "cell_type": "code",
      "source": [
        "# O algoritmo verifica se um número y\n",
        "# é primo ao tentar dividir y\n",
        "# por todos os números inteiros menores que y\n",
        "# e maior que 1, imprimindo\n",
        "# y ou indicando que\n",
        "# y é primo.\n",
        "limite = int(input(\"Digite o limite \"))\n",
        "for y in range(2,limite+1):\n",
        "  x = y // 2\n",
        "  while x>1:\n",
        "    if y % x == 0:\n",
        "      print('composto: ', y, 'tem fator', x)\n",
        "      break\n",
        "  x-=1\n",
        "else:\n",
        "  print(y, \"Número primo\")"
      ],
      "metadata": {
        "colab": {
          "base_uri": "https://localhost:8080/"
        },
        "id": "JIArOrWqtjOt",
        "outputId": "015e9920-aefa-4c0b-a278-84dacca76afd"
      },
      "execution_count": null,
      "outputs": [
        {
          "output_type": "stream",
          "name": "stdout",
          "text": [
            "Digite o limite 50\n",
            "composto:  4 tem fator 2\n"
          ]
        }
      ]
    }
  ]
}