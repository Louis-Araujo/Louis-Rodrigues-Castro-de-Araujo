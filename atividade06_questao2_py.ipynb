{
  "nbformat": 4,
  "nbformat_minor": 0,
  "metadata": {
    "colab": {
      "provenance": [],
      "authorship_tag": "ABX9TyMd66R3O//HkqxqLTIAmsWi",
      "include_colab_link": true
    },
    "kernelspec": {
      "name": "python3",
      "display_name": "Python 3"
    },
    "language_info": {
      "name": "python"
    }
  },
  "cells": [
    {
      "cell_type": "markdown",
      "metadata": {
        "id": "view-in-github",
        "colab_type": "text"
      },
      "source": [
        "<a href=\"https://colab.research.google.com/github/Louis-Araujo/Louis-Rodrigues-Castro-de-Araujo/blob/main/atividade06_questao2_py.ipynb\" target=\"_parent\"><img src=\"https://colab.research.google.com/assets/colab-badge.svg\" alt=\"Open In Colab\"/></a>"
      ]
    },
    {
      "cell_type": "markdown",
      "source": [
        "Descrição: Crie uma função soma_pares(vetor) que receba um vetor de inteiros e\n",
        "retorne a soma de todos os elementos pares do vetor."
      ],
      "metadata": {
        "id": "wfyk4hLsNERl"
      }
    },
    {
      "cell_type": "code",
      "execution_count": null,
      "metadata": {
        "id": "WMIbi70aNBf1"
      },
      "outputs": [],
      "source": [
        "def soma_pares(vetor):\n",
        "    soma = 0\n",
        "    for numero in vetor:\n",
        "        if numero % 2 == 0:  # Verifica se o número é par\n",
        "            soma += numero  # Adiciona o número à soma\n",
        "    return soma\n",
        "\n",
        "# Exemplo de uso:\n",
        "vetor = [1, 2, 3, 4, 5, 6]\n",
        "resultado = soma_pares(vetor)\n",
        "print(resultado)  # Saída: 12 (2 + 4 + 6)"
      ]
    }
  ]
}