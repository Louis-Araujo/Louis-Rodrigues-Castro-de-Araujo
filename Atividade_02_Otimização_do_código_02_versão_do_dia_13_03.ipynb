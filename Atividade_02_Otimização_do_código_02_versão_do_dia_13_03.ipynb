{
  "nbformat": 4,
  "nbformat_minor": 0,
  "metadata": {
    "colab": {
      "provenance": [],
      "authorship_tag": "ABX9TyN6GdOXqDpm8ckew0zWPgdU",
      "include_colab_link": true
    },
    "kernelspec": {
      "name": "python3",
      "display_name": "Python 3"
    },
    "language_info": {
      "name": "python"
    }
  },
  "cells": [
    {
      "cell_type": "markdown",
      "metadata": {
        "id": "view-in-github",
        "colab_type": "text"
      },
      "source": [
        "<a href=\"https://colab.research.google.com/github/Louis-Araujo/Louis-Rodrigues-Castro-de-Araujo/blob/main/Atividade_02_Otimiza%C3%A7%C3%A3o_do_c%C3%B3digo_02_vers%C3%A3o_do_dia_13_03.ipynb\" target=\"_parent\"><img src=\"https://colab.research.google.com/assets/colab-badge.svg\" alt=\"Open In Colab\"/></a>"
      ]
    },
    {
      "cell_type": "markdown",
      "source": [
        "Questão 01:\n",
        "Como você faria para garantir que as notas inseridas pelo usuário estejam dentro de um intervalo válido (por exemplo, entre 0 e 10)?"
      ],
      "metadata": {
        "id": "PK3-_M4PtJ5o"
      }
    },
    {
      "cell_type": "code",
      "source": [
        "nota_minima = 0\n",
        "nota_maxima = 10\n",
        "\n",
        "while True:\n",
        "    nota = float(input(\"Digite a nota (entre 0 e 10): \"))\n",
        "    if nota >= nota_minima and nota <= nota_maxima:\n",
        "        break\n",
        "    else:\n",
        "        print(\"Por favor, digite uma nota válida entre 0 e 10.\")\n",
        "\n",
        "print(\"A nota inserida é:\", nota)"
      ],
      "metadata": {
        "colab": {
          "base_uri": "https://localhost:8080/"
        },
        "id": "7D2MSCa4tM17",
        "outputId": "2331e59a-7103-44d6-9d63-d055aecc7bc6"
      },
      "execution_count": 11,
      "outputs": [
        {
          "output_type": "stream",
          "name": "stdout",
          "text": [
            "Digite a nota (entre 0 e 10): 7.0\n",
            "A nota inserida é: 7.0\n"
          ]
        }
      ]
    },
    {
      "cell_type": "markdown",
      "source": [
        "Explicação:\n",
        "Na questão 1, pede-se a demonstração de como se faz para garantir que as notas inseridas\n",
        "pelo usuário estejam dentro de um intervalo válido, pegando como referência de 0 a 10.\n",
        "Dessa maneira o código, acima, solicita ao usuário que insira as notas e verifique se estão\n",
        "dentro do intervalo válido (0 a 10). Quando pedimos ao usuário que insira uma nota, primeiro\n",
        "é verificado se a nota está entre 0 e 10. Se estiver, a nota é aceita. Se não estiver, é pedido que\n",
        "o usuário insira outra nota até que ele forneça uma nota dentro desse intervalo. Isso garante\n",
        "que as notas estejam em um intervalo válido, entre 0 a 10, como exemplificado."
      ],
      "metadata": {
        "id": "lEcYX9WtuCfI"
      }
    },
    {
      "cell_type": "markdown",
      "source": [
        "Questão 02:\n",
        "Como você poderia permitir que o usuário personalize os pesos das notas, em vez de usar pesos fixos (por exemplo, permitir que o usuário defina o peso para cada nota inserida)?"
      ],
      "metadata": {
        "id": "OOx-n5BWtgC5"
      }
    },
    {
      "cell_type": "code",
      "source": [
        "notas = []\n",
        "pesos = []\n",
        "num_notas = int(float(input(\"Quantas notas você deseja inserir? \")))\n",
        "\n",
        "for i in range(num_notas):\n",
        "    nota = float(input(f\"Digite a nota {i+1}: \"))\n",
        "    peso = float(input(f\"Digite o peso para a nota {i+1}: \"))\n",
        "    notas.append(nota)\n",
        "    pesos.append(peso)\n",
        "\n",
        "media_ponderada = sum(nota * peso for nota, peso in zip(notas, pesos)) / sum(pesos)\n",
        "print(\"A média ponderada das notas é:\", media_ponderada)"
      ],
      "metadata": {
        "colab": {
          "base_uri": "https://localhost:8080/"
        },
        "id": "Kvpq_Kqvtkk5",
        "outputId": "6d1e97f1-b884-4a9a-850e-5006675a160b"
      },
      "execution_count": 10,
      "outputs": [
        {
          "output_type": "stream",
          "name": "stdout",
          "text": [
            "Quantas notas você deseja inserir? 2\n",
            "Digite a nota 1: 7.0\n",
            "Digite o peso para a nota 1: 2\n",
            "Digite a nota 2: 7.0\n",
            "Digite o peso para a nota 2: 3\n",
            "A média ponderada das notas é: 7.0\n"
          ]
        }
      ]
    },
    {
      "cell_type": "markdown",
      "source": [
        "Explicação:\n",
        "Na questão 2, pede-se para demonstrar a situação em que o código permite que o usuário\n",
        "personalize os pesos das notas. Sendo assim, com o código acima, quando solicitamos ao\n",
        "usuário que insira as notas, também pedimos que ele defina o peso de cada nota. Por\n",
        "exemplo, se a nota tem peso 2, ela conta mais do que uma nota com peso 1. Depois que o\n",
        "usuário insere todas as notas e seus pesos correspondentes, é calculada a média ponderada.\n",
        "Isso significa que cada nota contribui para a média com base em seu peso. Dessa forma, o\n",
        "usuário pode personalizar como as notas afetam a média final.\n",
        "Portanto, o código permite que o usuário personalize os pesos das notas, pedindo ao usuário\n",
        "que insira o número de notas e, em seguida, solicita as notas e os pesos correspondentes para\n",
        "cada uma delas. Em seguida, calcula a média ponderada das notas inseridas."
      ],
      "metadata": {
        "id": "kQe_opYNuK5Q"
      }
    }
  ]
}