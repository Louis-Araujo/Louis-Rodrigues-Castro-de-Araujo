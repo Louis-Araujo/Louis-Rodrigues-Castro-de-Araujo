{
  "nbformat": 4,
  "nbformat_minor": 0,
  "metadata": {
    "colab": {
      "provenance": [],
      "authorship_tag": "ABX9TyOwP0m+e+lfweTZRg7EMFaW",
      "include_colab_link": true
    },
    "kernelspec": {
      "name": "python3",
      "display_name": "Python 3"
    },
    "language_info": {
      "name": "python"
    }
  },
  "cells": [
    {
      "cell_type": "markdown",
      "metadata": {
        "id": "view-in-github",
        "colab_type": "text"
      },
      "source": [
        "<a href=\"https://colab.research.google.com/github/Louis-Araujo/Louis-Rodrigues-Castro-de-Araujo/blob/main/test_atividade06_questao3_py.ipynb\" target=\"_parent\"><img src=\"https://colab.research.google.com/assets/colab-badge.svg\" alt=\"Open In Colab\"/></a>"
      ]
    },
    {
      "cell_type": "code",
      "execution_count": null,
      "metadata": {
        "id": "Qbe5jtlC0nfo"
      },
      "outputs": [],
      "source": [
        "python\n",
        "Copiar código\n",
        "import unittest\n",
        "from unittest.mock import patch\n",
        "from atividade06 import conversor_temperatura\n",
        "class TestConversorTemperatura(unittest.TestCase):\n",
        "@patch(&#39;builtins.input&#39;, return_value=&#39;0&#39;)\n",
        "@patch(&#39;builtins.print&#39;)\n",
        "def test_conversor_temperatura(self, mock_print, mock_input):\n",
        "conversor_temperatura()\n",
        "mock_print.assert_called_with(32.0)\n",
        "@patch(&#39;builtins.input&#39;, return_value=&#39;100&#39;)\n",
        "@patch(&#39;builtins.print&#39;)\n",
        "def test_conversor_temperatura_100(self, mock_print, mock_input):\n",
        "conversor_temperatura()\n",
        "mock_print.assert_called_with(212.0)\n",
        "if __name__ == &#39;__main__&#39;:\n",
        "unittest.main()"
      ]
    }
  ]
}