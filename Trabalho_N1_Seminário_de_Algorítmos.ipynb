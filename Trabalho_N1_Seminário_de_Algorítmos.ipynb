{
  "nbformat": 4,
  "nbformat_minor": 0,
  "metadata": {
    "colab": {
      "provenance": [],
      "authorship_tag": "ABX9TyOmg8HQ4061SYfU6wnZZ4oF",
      "include_colab_link": true
    },
    "kernelspec": {
      "name": "python3",
      "display_name": "Python 3"
    },
    "language_info": {
      "name": "python"
    }
  },
  "cells": [
    {
      "cell_type": "markdown",
      "metadata": {
        "id": "view-in-github",
        "colab_type": "text"
      },
      "source": [
        "<a href=\"https://colab.research.google.com/github/Louis-Araujo/Louis-Rodrigues-Castro-de-Araujo/blob/main/Trabalho_N1_Semin%C3%A1rio_de_Algor%C3%ADtmos.ipynb\" target=\"_parent\"><img src=\"https://colab.research.google.com/assets/colab-badge.svg\" alt=\"Open In Colab\"/></a>"
      ]
    },
    {
      "cell_type": "code",
      "execution_count": null,
      "metadata": {
        "id": "hBxY--QyCVeJ"
      },
      "outputs": [],
      "source": [
        "# Pedir ao usuário a quantidade de bairros\n",
        "n_bairros = int(input(\"Informe o número de bairros que a cidade possui: \"))\n",
        "\n",
        "bairros = [] # Lista para armazenar os nomes dos bairros\n",
        "habitantes_bairro = []  # Lista para armazenar o número de habitantes de cada bairro\n",
        "\n",
        "# Pedir ao usuário os nomes dos bairros e inserir na lista\n",
        "for i in range(n_bairros):\n",
        "    bairro = input(f\"Digite o nome do {i+1}º bairro: \")\n",
        "    bairros.append(bairro)\n",
        "\n",
        "# Pedir ao usuário o número de habitantes de cada bairro e validar se é um número inteiro válido\n",
        "for bairro in bairros:\n",
        "    while True:\n",
        "        try:\n",
        "            habitantes = int(input(f\"Digite o número de habitantes do bairro {bairro}: \"))\n",
        "            if habitantes < 0:\n",
        "                print(\"Por favor, insira um número maior ou igual a zero para o número de habitantes.\")\n",
        "                continue\n",
        "            else:\n",
        "                habitantes_bairro.append(habitantes)\n",
        "                break\n",
        "        except ValueError:\n",
        "            print(\"Por favor, insira um número inteiro para o número de habitantes.\")\n",
        "\n",
        "# Verificando resultado até aqui\n",
        "print(\"Bairros e seus respectivos números de habitantes:\")\n",
        "for bairro, habitantes in zip(bairros, habitantes_bairro):\n",
        "    print(f\"{bairro}: {habitantes} habitantes\")"
      ]
    }
  ]
}