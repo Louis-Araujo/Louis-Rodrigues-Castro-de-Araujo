{
  "nbformat": 4,
  "nbformat_minor": 0,
  "metadata": {
    "colab": {
      "provenance": [],
      "authorship_tag": "ABX9TyMxamAKo60xg3t+2f4OALTb",
      "include_colab_link": true
    },
    "kernelspec": {
      "name": "python3",
      "display_name": "Python 3"
    },
    "language_info": {
      "name": "python"
    }
  },
  "cells": [
    {
      "cell_type": "markdown",
      "metadata": {
        "id": "view-in-github",
        "colab_type": "text"
      },
      "source": [
        "<a href=\"https://colab.research.google.com/github/Louis-Araujo/Louis-Rodrigues-Castro-de-Araujo/blob/main/test_atividade06_questao2_py.ipynb\" target=\"_parent\"><img src=\"https://colab.research.google.com/assets/colab-badge.svg\" alt=\"Open In Colab\"/></a>"
      ]
    },
    {
      "cell_type": "code",
      "execution_count": null,
      "metadata": {
        "id": "3jQjnJ2-zJcP"
      },
      "outputs": [],
      "source": [
        "python\n",
        "Copiar código\n",
        "\n",
        "import unittest\n",
        "from atividade06 import soma_pares\n",
        "class TestSomaPares(unittest.TestCase):\n",
        "def test_soma_pares(self):\n",
        "self.assertEqual(soma_pares([1, 2, 3, 4, 5, 6]), 12)\n",
        "self.assertEqual(soma_pares([10, 21, 32, 43, 54]), 96)\n",
        "self.assertEqual(soma_pares([0, -2, -4, 3]), -6)\n",
        "self.assertEqual(soma_pares([1, 3, 5]), 0)\n",
        "if __name__ == &#39;__main__&#39;:\n",
        "unittest.main()"
      ]
    }
  ]
}
