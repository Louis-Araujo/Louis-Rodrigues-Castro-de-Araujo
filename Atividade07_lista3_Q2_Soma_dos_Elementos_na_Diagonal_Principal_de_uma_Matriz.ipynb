{
  "nbformat": 4,
  "nbformat_minor": 0,
  "metadata": {
    "colab": {
      "provenance": [],
      "authorship_tag": "ABX9TyPD5hIgTq8BRvxNFrYtvFFU",
      "include_colab_link": true
    },
    "kernelspec": {
      "name": "python3",
      "display_name": "Python 3"
    },
    "language_info": {
      "name": "python"
    }
  },
  "cells": [
    {
      "cell_type": "markdown",
      "metadata": {
        "id": "view-in-github",
        "colab_type": "text"
      },
      "source": [
        "<a href=\"https://colab.research.google.com/github/Louis-Araujo/Louis-Rodrigues-Castro-de-Araujo/blob/main/Atividade07_lista3_Q2_Soma_dos_Elementos_na_Diagonal_Principal_de_uma_Matriz.ipynb\" target=\"_parent\"><img src=\"https://colab.research.google.com/assets/colab-badge.svg\" alt=\"Open In Colab\"/></a>"
      ]
    },
    {
      "cell_type": "code",
      "execution_count": 1,
      "metadata": {
        "id": "0VGQT4c-v1aY"
      },
      "outputs": [],
      "source": [
        "def soma_diagonal(matriz):\n",
        "  n = len(matriz)\n",
        "  if any(len(linha) != n for linha in matriz):\n",
        "    raise ValueError(\"A matriz deve ser quadrada.\")\n",
        "    soma = sum(matriz[i][i] for i in range(n))\n",
        "  return soma\n"
      ]
    }
  ]
}