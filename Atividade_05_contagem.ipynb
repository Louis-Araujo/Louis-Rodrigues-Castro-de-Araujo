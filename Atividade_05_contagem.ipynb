{
  "nbformat": 4,
  "nbformat_minor": 0,
  "metadata": {
    "colab": {
      "provenance": [],
      "authorship_tag": "ABX9TyNifuu6aXQSpwKka7Hx6T6d",
      "include_colab_link": true
    },
    "kernelspec": {
      "name": "python3",
      "display_name": "Python 3"
    },
    "language_info": {
      "name": "python"
    }
  },
  "cells": [
    {
      "cell_type": "markdown",
      "metadata": {
        "id": "view-in-github",
        "colab_type": "text"
      },
      "source": [
        "<a href=\"https://colab.research.google.com/github/Louis-Araujo/Louis-Rodrigues-Castro-de-Araujo/blob/main/Atividade_05_contagem.ipynb\" target=\"_parent\"><img src=\"https://colab.research.google.com/assets/colab-badge.svg\" alt=\"Open In Colab\"/></a>"
      ]
    },
    {
      "cell_type": "markdown",
      "source": [
        "Exercício 2: Contagem de Palavras em um Arquivo\n",
        "Protótipo da Função:\n",
        "\n",
        "Descrição: Escreva uma função que conte o número de ocorrências de uma palavra\n",
        "específica em um arquivo de texto."
      ],
      "metadata": {
        "id": "aYcFLoLBulNf"
      }
    },
    {
      "cell_type": "code",
      "source": [
        "def contar_palavra(nome_arquivo, palavra):\n",
        "    try:\n",
        "        with open(nome_arquivo, 'r') as arquivo:\n",
        "            conteudo = arquivo.read()\n",
        "        return conteudo.split().count(palavra)\n",
        "    except FileNotFoundError:\n",
        "        print(f'O arquivo \"{nome_arquivo}\" não foi encontrado.')\n",
        "        return 0\n",
        "    except IOError as e:\n",
        "        print(f'Erro ao ler o arquivo: {e}')\n",
        "        return 0\n",
        "\n",
        "def main():\n",
        "    nome_arquivo = input('Digite o nome do arquivo (inclua a extensão, por exemplo \"teste.txt\"): ')\n",
        "    palavra = input('Digite a palavra a ser contada: ')\n",
        "    contagem = contar_palavra(nome_arquivo, palavra)\n",
        "    print(f'A palavra \"{palavra}\" ocorre {contagem} vez(es) no arquivo \"{nome_arquivo}\".')\n",
        "\n",
        "if __name__ == \"__main__\":\n",
        "    main()\n"
      ],
      "metadata": {
        "colab": {
          "base_uri": "https://localhost:8080/"
        },
        "id": "9x5pjaupkctq",
        "outputId": "129a7355-b430-46c4-9cb1-9eefe3cf9fa2"
      },
      "execution_count": null,
      "outputs": [
        {
          "output_type": "stream",
          "name": "stdout",
          "text": [
            "Digite o nome do arquivo (inclua a extensão, por exemplo \"teste.txt\"): entrada.txt\n",
            "Digite a palavra a ser contada: nome\n",
            "O arquivo \"entrada.txt\" não foi encontrado.\n",
            "A palavra \"nome\" ocorre 0 vez(es) no arquivo \"entrada.txt\".\n"
          ]
        }
      ]
    }
  ]
}