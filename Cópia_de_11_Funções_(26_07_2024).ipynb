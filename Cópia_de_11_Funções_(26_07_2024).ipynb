{
  "nbformat": 4,
  "nbformat_minor": 0,
  "metadata": {
    "colab": {
      "provenance": [],
      "authorship_tag": "ABX9TyPnfIA8M4SebZWy2MpV3hUI",
      "include_colab_link": true
    },
    "kernelspec": {
      "name": "python3",
      "display_name": "Python 3"
    },
    "language_info": {
      "name": "python"
    }
  },
  "cells": [
    {
      "cell_type": "markdown",
      "metadata": {
        "id": "view-in-github",
        "colab_type": "text"
      },
      "source": [
        "<a href=\"https://colab.research.google.com/github/Louis-Araujo/Louis-Rodrigues-Castro-de-Araujo/blob/main/C%C3%B3pia_de_11_Fun%C3%A7%C3%B5es_(26_07_2024).ipynb\" target=\"_parent\"><img src=\"https://colab.research.google.com/assets/colab-badge.svg\" alt=\"Open In Colab\"/></a>"
      ]
    },
    {
      "cell_type": "code",
      "execution_count": null,
      "metadata": {
        "colab": {
          "base_uri": "https://localhost:8080/"
        },
        "id": "A3RI5rRxg7xs",
        "outputId": "841dd21a-2d22-4169-f495-dea23657ddda"
      },
      "outputs": [
        {
          "output_type": "stream",
          "name": "stdout",
          "text": [
            "True\n",
            "False\n"
          ]
        }
      ],
      "source": [
        "#função de retorno par\n",
        "def epar(num):\n",
        "    if num % 2 == 0:\n",
        "        return True\n",
        "    else:\n",
        "        return False\n",
        "\n",
        "print(epar(4))\n",
        "print(epar(3))"
      ]
    },
    {
      "cell_type": "code",
      "source": [
        "#funcção para verificar se um número é primo\n",
        "def primo(num):\n",
        "    for i in range(2, num):\n",
        "        if num % i == 0:\n",
        "            return False\n",
        "    return True\n",
        "\n",
        "#print(primo(4))\n",
        "#print(primo(5))\n",
        "valor = int(input('Digite o número inteiro para verificar se é primo:'))\n",
        "if primo(valor):\n",
        "  print('O número é primo')\n",
        "else:\n",
        "  print('O número não é primo')\n"
      ],
      "metadata": {
        "colab": {
          "base_uri": "https://localhost:8080/"
        },
        "id": "EsSFb4bOjBcf",
        "outputId": "a30f7225-e9b6-4c41-b155-0026c4c8ed11"
      },
      "execution_count": null,
      "outputs": [
        {
          "output_type": "stream",
          "name": "stdout",
          "text": [
            "Digite o número inteiro para verificar se é primo:4\n",
            "O número não é primo\n"
          ]
        }
      ]
    },
    {
      "cell_type": "code",
      "source": [
        "#implementar uma função para calcular equações de segundo grau, utilizando a fórmula de Baskara\n",
        "#ax² + bx + c = 0\n",
        "def chitaozinho(a, b, c):\n",
        "  delta = b**2 - 4*a*c\n",
        "  if delta < 0:\n",
        "    print('A equação não possui raízes reais')\n",
        "  elif delta == 0:\n",
        "    x = -b/(2*a)\n",
        "    print('A equação possui apenas uma raiz real:', x)\n",
        "  else:\n",
        "    x1 = (-b + delta**0.5)/(2*a)\n",
        "    x2 = (-b - delta**0.5)/(2*a)\n",
        "    print('A equação possui duas raízes reais:', x1, 'e', x2)\n",
        "\n",
        "a = float(input('Digite o valor de a:'))\n",
        "b = float(input('Digite o valor de b:'))\n",
        "c = float(input('Digite o valor de c:'))\n",
        "\n",
        "chitaozinho(a, b, c)\n"
      ],
      "metadata": {
        "colab": {
          "base_uri": "https://localhost:8080/"
        },
        "id": "Nzhl80TJjEhA",
        "outputId": "c8a0d277-bedc-4708-d7bf-f00200c0f1c7"
      },
      "execution_count": null,
      "outputs": [
        {
          "output_type": "stream",
          "name": "stdout",
          "text": [
            "Digite o valor de a:2\n",
            "Digite o valor de b:4\n",
            "Digite o valor de c:6\n",
            "A equação não possui raízes reais\n"
          ]
        }
      ]
    },
    {
      "cell_type": "code",
      "source": [
        "#implementar uma função para calcular equações de segundo grau, utilizando a fórmula de Baskara\n",
        "#ax² + bx + c = 0\n",
        "def chitaozinho(a, b, c):\n",
        "  delta = b**2 - 4*a*c\n",
        "  chitaozinho_raiz(delta)\n",
        "\n",
        "#desacomplamento da função da raiz\n",
        "def chitaozinho_raiz(delta):\n",
        "  if delta < 0:\n",
        "    print('A equação não possui raízes reais')\n",
        "  elif delta == 0:\n",
        "    x = -b/(2*a)\n",
        "    print('A equação possui apenas uma raiz real:', x)\n",
        "  else:\n",
        "    x1 = (-b + delta**0.5)/(2*a)\n",
        "    x2 = (-b - delta**0.5)/(2*a)\n",
        "    print('A equação possui duas raízes reais:', x1, 'e', x2)\n",
        "\n",
        "a = float(input('Digite o valor de a:'))\n",
        "b = float(input('Digite o valor de b:'))\n",
        "c = float(input('Digite o valor de c:'))\n",
        "\n",
        "chitaozinho(a, b, c)\n"
      ],
      "metadata": {
        "colab": {
          "base_uri": "https://localhost:8080/"
        },
        "id": "iYx4WBRUjHd5",
        "outputId": "5d8b455d-073d-427d-8f42-2651317934c0"
      },
      "execution_count": null,
      "outputs": [
        {
          "output_type": "stream",
          "name": "stdout",
          "text": [
            "Digite o valor de a:3\n",
            "Digite o valor de b:5\n",
            "Digite o valor de c:4\n",
            "A equação não possui raízes reais\n"
          ]
        }
      ]
    },
    {
      "cell_type": "code",
      "source": [
        "#função de Fibbonaci\n",
        "def fibbonaci(n):\n",
        "  seq = [1,1]\n",
        "  for i in range(2,n):\n",
        "    seq.append(seq[i-1]+seq[i-2])\n",
        "  return seq\n",
        "print(fibbonaci(12))"
      ],
      "metadata": {
        "colab": {
          "base_uri": "https://localhost:8080/"
        },
        "id": "pjXOV_nljKJA",
        "outputId": "1d502e6e-a606-4588-e0e6-f91f579c2911"
      },
      "execution_count": null,
      "outputs": [
        {
          "output_type": "stream",
          "name": "stdout",
          "text": [
            "[1, 1, 2, 3, 5, 8, 13, 21, 34, 55, 89, 144]\n"
          ]
        }
      ]
    },
    {
      "cell_type": "markdown",
      "source": [
        "Escopo de variáveis"
      ],
      "metadata": {
        "id": "MOCtujiroc5T"
      }
    },
    {
      "cell_type": "code",
      "source": [
        "a=5\n",
        "def muda_e_imprime():\n",
        "  a=10\n",
        "  print('a dentro da função: ', a) #a=10\n",
        "\n",
        "print('a antes de mudar: ', a) #a=5\n",
        "muda_e_imprime() #chamada da funcao, a=10\n",
        "print('a depois de mudar: ', a) #a=5\n",
        "\n",
        "a=5\n",
        "def muda_e_imprime():\n",
        "  global a #declara que a é uma variável global\n",
        "  a=10\n",
        "  print('a dentro da função: ', a) #a=10\n",
        "\n",
        "print('a antes de mudar: ', a) #a=5\n",
        "muda_e_imprime() #chamada da funcao, a=10\n",
        "print('a depois de mudar: ', a) #a=10\n",
        "\n"
      ],
      "metadata": {
        "id": "xEV1xvpFocSz",
        "outputId": "fa34a4da-80e1-49af-f4fc-4976a9195d2d",
        "colab": {
          "base_uri": "https://localhost:8080/"
        }
      },
      "execution_count": null,
      "outputs": [
        {
          "output_type": "stream",
          "name": "stdout",
          "text": [
            "a antes de mudar:  5\n",
            "a dentro da função:  10\n",
            "a depois de mudar:  5\n",
            "a antes de mudar:  5\n",
            "a dentro da função:  10\n",
            "a depois de mudar:  10\n"
          ]
        }
      ]
    }
  ]
}