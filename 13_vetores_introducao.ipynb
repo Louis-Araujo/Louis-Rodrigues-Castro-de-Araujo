{
  "nbformat": 4,
  "nbformat_minor": 0,
  "metadata": {
    "colab": {
      "provenance": [],
      "authorship_tag": "ABX9TyPjTsee/J077QyA8RJuSViM",
      "include_colab_link": true
    },
    "kernelspec": {
      "name": "python3",
      "display_name": "Python 3"
    },
    "language_info": {
      "name": "python"
    }
  },
  "cells": [
    {
      "cell_type": "markdown",
      "metadata": {
        "id": "view-in-github",
        "colab_type": "text"
      },
      "source": [
        "<a href=\"https://colab.research.google.com/github/Louis-Araujo/Louis-Rodrigues-Castro-de-Araujo/blob/main/13_vetores_introducao.ipynb\" target=\"_parent\"><img src=\"https://colab.research.google.com/assets/colab-badge.svg\" alt=\"Open In Colab\"/></a>"
      ]
    },
    {
      "cell_type": "code",
      "execution_count": 6,
      "metadata": {
        "colab": {
          "base_uri": "https://localhost:8080/"
        },
        "id": "JVM90ASxmdzX",
        "outputId": "a6ef7e8f-2657-42cc-8ab1-3c213335411c"
      },
      "outputs": [
        {
          "output_type": "stream",
          "name": "stdout",
          "text": [
            "Familia Revoredo\n",
            "Familia Menezes\n"
          ]
        }
      ],
      "source": [
        "#Considere um edificio com diversas familias e/ou moradores por andar\n",
        "edificio_terreo = \"Familia Revoredo\"\n",
        "edificio_1o_andar = \"Familia Menezes\"\n",
        "edificio_2o_andar = \"Familia Martins\"\n",
        "edificio_3o_andar = \"Familia Pinheiro\"\n",
        "\n",
        "#Como atribuir em localizacoes do vetor, abstraindo o andar\n",
        "edificio = [\n",
        "    edificio_terreo,\n",
        "    edificio_1o_andar,\n",
        "    edificio_2o_andar,\n",
        "    edificio_3o_andar\n",
        "]\n",
        "\n",
        "print(edificio[0])\n",
        "print(edificio[1])\n"
      ]
    },
    {
      "cell_type": "code",
      "source": [
        "my_array = [7,24,\"Fish\",\"hat stand\"]\n",
        "print(my_array[2])\n"
      ],
      "metadata": {
        "colab": {
          "base_uri": "https://localhost:8080/"
        },
        "id": "adN8YIRkxHOj",
        "outputId": "852a825b-e901-4587-d758-a07db7c137d7"
      },
      "execution_count": 5,
      "outputs": [
        {
          "output_type": "stream",
          "name": "stdout",
          "text": [
            "Fish\n"
          ]
        }
      ]
    },
    {
      "cell_type": "code",
      "source": [
        "my_words = [\"Dudes\", \"and\"]\n",
        "print(my_words[0])\n",
        "print(my_words[1])\n",
        "my_words.append(\"Bettys\")\n",
        "print(my_words[2])\n"
      ],
      "metadata": {
        "colab": {
          "base_uri": "https://localhost:8080/"
        },
        "id": "1V_GJLYJxJji",
        "outputId": "cb3b61fb-d568-47cc-b41f-3ada4b86e09d"
      },
      "execution_count": 4,
      "outputs": [
        {
          "output_type": "stream",
          "name": "stdout",
          "text": [
            "Dudes\n",
            "and\n",
            "Bettys\n"
          ]
        }
      ]
    },
    {
      "cell_type": "code",
      "source": [
        "#lista vazia\n",
        "lista = []\n",
        "\n",
        "#uma lista com três notas\n",
        "notas = [7.5,9,8.3]\n",
        "\n",
        "#Acessar uma nota\n",
        "print(notas[0])\n",
        "\n",
        "#modificar a primeira nota\n",
        "notas[0] = 8.7\n",
        "print(notas[0])\n"
      ],
      "metadata": {
        "colab": {
          "base_uri": "https://localhost:8080/"
        },
        "id": "xMnIIzbExL5a",
        "outputId": "d43a92ab-f089-4424-83a9-634b4b7abba5"
      },
      "execution_count": 3,
      "outputs": [
        {
          "output_type": "stream",
          "name": "stdout",
          "text": [
            "7.5\n",
            "8.7\n"
          ]
        }
      ]
    },
    {
      "cell_type": "code",
      "source": [
        "#Calcule a média de 5 notas\n",
        "notas = [6,7,5,8,9]\n",
        "soma = 0 #somador\n",
        "x = 0 #iteração\n",
        "while(x<5):\n",
        "  #somador\n",
        "  #soma = soma + notas[x]\n",
        "  #simplificando em python\n",
        "  soma += notas[x]\n",
        "\n",
        "  #Impressão para depuração\n",
        "  #print(x)\n",
        "  #print(soma)\n",
        "\n",
        "  #controle da iteração\n",
        "  #x = x + 1 é equiavalente a x +=1\n",
        "  x += 1\n",
        "print(\"Média: %5.2f\" % (soma/x))\n"
      ],
      "metadata": {
        "colab": {
          "base_uri": "https://localhost:8080/"
        },
        "id": "2XNkuZt9xOhk",
        "outputId": "15fec330-c08b-49c7-c71c-4a7a63bd6f9d"
      },
      "execution_count": 2,
      "outputs": [
        {
          "output_type": "stream",
          "name": "stdout",
          "text": [
            "Média:  7.00\n"
          ]
        }
      ]
    },
    {
      "cell_type": "code",
      "source": [
        "palavras = ['guerra', 'paz', 'vida', 'tranquilidade']\n",
        "'guerra' in palavras\n",
        "'saúde' in palavras\n"
      ],
      "metadata": {
        "colab": {
          "base_uri": "https://localhost:8080/"
        },
        "id": "74JaIa5DxRK6",
        "outputId": "fb19ca9f-419a-42b3-9c6e-3f091f8b0688"
      },
      "execution_count": 1,
      "outputs": [
        {
          "output_type": "execute_result",
          "data": {
            "text/plain": [
              "False"
            ]
          },
          "metadata": {},
          "execution_count": 1
        }
      ]
    },
    {
      "cell_type": "code",
      "source": [
        "for numero in range(20):\n",
        "  #print(numero)\n",
        "  if(numero % 2 == 0):\n",
        "    print(numero)\n",
        ""
      ],
      "metadata": {
        "colab": {
          "base_uri": "https://localhost:8080/"
        },
        "id": "RcnWFFu_y_tr",
        "outputId": "1fb4cf9d-b521-4aec-a6f3-8965360bcbed"
      },
      "execution_count": 12,
      "outputs": [
        {
          "output_type": "stream",
          "name": "stdout",
          "text": [
            "0\n",
            "2\n",
            "4\n",
            "6\n",
            "8\n",
            "10\n",
            "12\n",
            "14\n",
            "16\n",
            "18\n"
          ]
        }
      ]
    },
    {
      "cell_type": "code",
      "source": [
        "for fruta in [\"banana\", \"abacaxi\", \"laranja\"]:\n",
        "  print(\"Eu gosto de comer \" + fruta + \"s!\")\n",
        ""
      ],
      "metadata": {
        "colab": {
          "base_uri": "https://localhost:8080/"
        },
        "id": "TpqS1JLizClj",
        "outputId": "57731008-6e4d-4502-d9c3-9718af68dfda"
      },
      "execution_count": 13,
      "outputs": [
        {
          "output_type": "stream",
          "name": "stdout",
          "text": [
            "Eu gosto de comer bananas!\n",
            "Eu gosto de comer abacaxis!\n",
            "Eu gosto de comer laranjas!\n"
          ]
        }
      ]
    },
    {
      "cell_type": "code",
      "source": [
        "#Operações com listas\n",
        "\n",
        "#concatenção\n",
        "a=[1,2,3]\n",
        "b=[4,5,6]\n",
        "c = a + b\n",
        "print(c)"
      ],
      "metadata": {
        "colab": {
          "base_uri": "https://localhost:8080/"
        },
        "id": "tfxBt1AczEiL",
        "outputId": "14603c8c-48c3-4540-f567-d2a7b9043514"
      },
      "execution_count": 14,
      "outputs": [
        {
          "output_type": "stream",
          "name": "stdout",
          "text": [
            "[1, 2, 3, 4, 5, 6]\n"
          ]
        }
      ]
    },
    {
      "cell_type": "code",
      "source": [
        "#Repetição\n",
        "d = [0] * 4\n",
        "print(d)\n",
        "\n",
        "e = [1,2,3] * 3\n",
        "print(e)\n",
        ""
      ],
      "metadata": {
        "colab": {
          "base_uri": "https://localhost:8080/"
        },
        "id": "osEjv9WRzJSs",
        "outputId": "eb0f2a04-5b9d-4817-fd89-7cf667a41da1"
      },
      "execution_count": 11,
      "outputs": [
        {
          "output_type": "stream",
          "name": "stdout",
          "text": [
            "[0, 0, 0, 0]\n",
            "[1, 2, 3, 1, 2, 3, 1, 2, 3]\n"
          ]
        }
      ]
    },
    {
      "cell_type": "code",
      "source": [
        "#Slicing ou fatiamento de uma lista\n",
        "lista = ['a','b','c','d','e','f']\n",
        "print(lista[1:3])\n",
        "print(lista[:4])\n",
        "print(lista[3:])\n",
        "print(lista[:])\n"
      ],
      "metadata": {
        "colab": {
          "base_uri": "https://localhost:8080/"
        },
        "id": "IkQoQSoczPak",
        "outputId": "3713aca6-3973-4d59-ad5c-9829f0721c82"
      },
      "execution_count": 10,
      "outputs": [
        {
          "output_type": "stream",
          "name": "stdout",
          "text": [
            "['b', 'c']\n",
            "['a', 'b', 'c', 'd']\n",
            "['d', 'e', 'f']\n",
            "['a', 'b', 'c', 'd', 'e', 'f']\n"
          ]
        }
      ]
    },
    {
      "cell_type": "code",
      "source": [
        "a = ['um', 'dois', 'tres']\n",
        "print(a)\n",
        "del a[1]\n",
        "print(a)\n",
        ""
      ],
      "metadata": {
        "colab": {
          "base_uri": "https://localhost:8080/"
        },
        "id": "Lx29KH7VzRp0",
        "outputId": "b28f75c2-1aff-4a6e-fc3c-4a367e35c9f1"
      },
      "execution_count": 9,
      "outputs": [
        {
          "output_type": "stream",
          "name": "stdout",
          "text": [
            "['um', 'dois', 'tres']\n",
            "['um', 'tres']\n"
          ]
        }
      ]
    },
    {
      "cell_type": "code",
      "source": [
        "lista = ['a','b','c','d','e','f']\n",
        "print(lista)\n",
        "del lista[1:5]\n",
        "print(lista)\n",
        ""
      ],
      "metadata": {
        "colab": {
          "base_uri": "https://localhost:8080/"
        },
        "id": "Ih3gU3nAzUMs",
        "outputId": "0239a27c-8627-4929-9299-ebead1786194"
      },
      "execution_count": 8,
      "outputs": [
        {
          "output_type": "stream",
          "name": "stdout",
          "text": [
            "['a', 'b', 'c', 'd', 'e', 'f']\n",
            "['a', 'f']\n"
          ]
        }
      ]
    },
    {
      "cell_type": "code",
      "source": [
        "#Clonagem de listas\n",
        "\n",
        "a = [1,2,3]\n",
        "b=a #referencia\n",
        "print(b)\n",
        "b[0]=5\n",
        "print(b)\n",
        "print(a)\n",
        "\n",
        "#clonar\n",
        "a = [1,2,3]\n",
        "b = a[:]\n",
        "print(b)\n",
        "b[0]=5\n",
        "print(b)\n",
        "print(a)"
      ],
      "metadata": {
        "colab": {
          "base_uri": "https://localhost:8080/"
        },
        "id": "tT0aOq7ZzWx8",
        "outputId": "916bf782-d2f6-4119-ed74-b82190a19c1a"
      },
      "execution_count": 7,
      "outputs": [
        {
          "output_type": "stream",
          "name": "stdout",
          "text": [
            "[1, 2, 3]\n",
            "[5, 2, 3]\n",
            "[5, 2, 3]\n",
            "[1, 2, 3]\n",
            "[5, 2, 3]\n",
            "[1, 2, 3]\n"
          ]
        }
      ]
    }
  ]
}