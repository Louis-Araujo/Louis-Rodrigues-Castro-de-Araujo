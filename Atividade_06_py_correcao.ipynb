{
  "nbformat": 4,
  "nbformat_minor": 0,
  "metadata": {
    "colab": {
      "provenance": [],
      "authorship_tag": "ABX9TyP++LqSmxROarBlIWpYxbcA",
      "include_colab_link": true
    },
    "kernelspec": {
      "name": "python3",
      "display_name": "Python 3"
    },
    "language_info": {
      "name": "python"
    }
  },
  "cells": [
    {
      "cell_type": "markdown",
      "metadata": {
        "id": "view-in-github",
        "colab_type": "text"
      },
      "source": [
        "<a href=\"https://colab.research.google.com/github/Louis-Araujo/Louis-Rodrigues-Castro-de-Araujo/blob/main/Atividade_06_py_correcao.ipynb\" target=\"_parent\"><img src=\"https://colab.research.google.com/assets/colab-badge.svg\" alt=\"Open In Colab\"/></a>"
      ]
    },
    {
      "cell_type": "code",
      "execution_count": null,
      "metadata": {
        "id": "oS3QuLty0sUY"
      },
      "outputs": [],
      "source": [
        "#Atividade 06 - Exercicíos II\n",
        "\n",
        "#Questão 1 - Função: Cálculo do Fatorial\n",
        "#Descrição: Crie uma função fatorial(n) que receba um número inteiro n e retorne o\n",
        "#fatorial desse número. O fatorial de n é o produto de todos os números inteiros de 1 até\n",
        "#n.\n",
        "def fatorial(n):\n",
        "  if n == 0 or n ==1:\n",
        "    return 1\n",
        "  resultado = 1\n",
        "  for i in range(2, n+1):\n",
        "    resultado *= i\n",
        "  return resultado\n",
        "  #pass\n",
        "\n",
        "#Questão 2 - Vetor: Soma de Elementos Pares\n",
        "#Descrição: Crie uma função soma_pares(vetor) que receba um vetor de inteiros e\n",
        "#retorne a soma de todos os elementos pares do vetor.\n",
        "def soma_pares(vetor):\n",
        "  soma = 0\n",
        "  for numero in vetor:\n",
        "    if numero % 2 == 0:\n",
        "      soma+=numero\n",
        "  return soma\n",
        "  #pass\n",
        "\n",
        "#Questão 3 - Input/Output: Conversor de Temperatura\n",
        "#Descrição: Crie uma função conversor_temperatura() que leia uma temperatura em\n",
        "#graus Celsius fornecida pelo usuário, converta para Fahrenheit e imprima o resultado. A\n",
        "#fórmula de conversão é: F = C * 9/5 + 32.\n",
        "def conversor_temperatura():\n",
        "  celsius = float(input(\"Digite a temp. em graus Celsius: \"))\n",
        "  fahrenheit = celsius * 9/5 + 32\n",
        "  print(fahrenheit)\n",
        "  #pass\n",
        "\n",
        "#Questão 4 - Matriz Bidimensional: Soma de Matrizes\n",
        "#Descrição: Crie uma função soma_matrizes(m1, m2) que receba duas matrizes 2x2 e\n",
        "#retorne uma nova matriz, que seja a soma das duas matrizes recebidas.\n",
        "def soma_matrizes(m1,m2):\n",
        "  matriz_soma = [[0,0],[0,0]]\n",
        "  for i in range(2):\n",
        "    for j in range(2):\n",
        "      matriz_soma[i][j] = m1[i][j] + m2[i][j]\n",
        "  return matriz_soma\n",
        "  #pass"
      ]
    }
  ]
}