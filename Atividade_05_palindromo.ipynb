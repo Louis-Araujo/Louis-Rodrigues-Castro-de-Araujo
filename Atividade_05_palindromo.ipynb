{
  "nbformat": 4,
  "nbformat_minor": 0,
  "metadata": {
    "colab": {
      "provenance": [],
      "mount_file_id": "1FQ4r1QgTYlf0D18hrIvHmFreXPxXxVAq",
      "authorship_tag": "ABX9TyOfHBMkHE4gMggeuWW8JekJ",
      "include_colab_link": true
    },
    "kernelspec": {
      "name": "python3",
      "display_name": "Python 3"
    },
    "language_info": {
      "name": "python"
    }
  },
  "cells": [
    {
      "cell_type": "markdown",
      "metadata": {
        "id": "view-in-github",
        "colab_type": "text"
      },
      "source": [
        "<a href=\"https://colab.research.google.com/github/Louis-Araujo/Louis-Rodrigues-Castro-de-Araujo/blob/main/Atividade_05_palindromo.ipynb\" target=\"_parent\"><img src=\"https://colab.research.google.com/assets/colab-badge.svg\" alt=\"Open In Colab\"/></a>"
      ]
    },
    {
      "cell_type": "markdown",
      "source": [
        "Exercício 1: Verificação de Palíndromos\n",
        "\n",
        "Descrição: Escreva uma função que verifique se uma string é um palíndromo,\n",
        "ignorando espaços e diferenças entre maiúsculas e minúsculas."
      ],
      "metadata": {
        "id": "PzZx_VZXhr9V"
      }
    },
    {
      "cell_type": "code",
      "execution_count": null,
      "metadata": {
        "colab": {
          "base_uri": "https://localhost:8080/"
        },
        "id": "f726BjDQfsoj",
        "outputId": "759dbd09-d104-41b0-ffaf-76db461e4b8c"
      },
      "outputs": [
        {
          "output_type": "stream",
          "name": "stdout",
          "text": [
            "Digite uma palavra ou frase para verificar se é palíndromo: ana\n",
            "É um palíndromo\n"
          ]
        }
      ],
      "source": [
        "def eh_palindromo(s):\n",
        "    s = s.strip().lower()\n",
        "    s = s.replace(' ', '')\n",
        "    return s == s[::-1]\n",
        "\n",
        "def main():\n",
        "    string = input('Digite uma palavra ou frase para verificar se é palíndromo: ')\n",
        "    if eh_palindromo(string):\n",
        "        print('É um palíndromo')\n",
        "    else:\n",
        "        print('Não é um palíndromo')\n",
        "\n",
        "if __name__ == '__main__':\n",
        "    main()\n"
      ]
    }
  ]
}