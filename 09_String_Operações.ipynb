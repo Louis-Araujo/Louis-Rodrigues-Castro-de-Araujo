{
  "nbformat": 4,
  "nbformat_minor": 0,
  "metadata": {
    "colab": {
      "provenance": [],
      "authorship_tag": "ABX9TyO6azHIll6WmL3c86U3DN6Q",
      "include_colab_link": true
    },
    "kernelspec": {
      "name": "python3",
      "display_name": "Python 3"
    },
    "language_info": {
      "name": "python"
    }
  },
  "cells": [
    {
      "cell_type": "markdown",
      "metadata": {
        "id": "view-in-github",
        "colab_type": "text"
      },
      "source": [
        "<a href=\"https://colab.research.google.com/github/Louis-Araujo/Louis-Rodrigues-Castro-de-Araujo/blob/main/9_String_Opera%C3%A7%C3%B5es.ipynb\" target=\"_parent\"><img src=\"https://colab.research.google.com/assets/colab-badge.svg\" alt=\"Open In Colab\"/></a>"
      ]
    },
    {
      "cell_type": "markdown",
      "source": [
        "FATIAMENTO DE STRING"
      ],
      "metadata": {
        "id": "Fz2OW-FumY8Z"
      }
    },
    {
      "cell_type": "code",
      "execution_count": 2,
      "metadata": {
        "colab": {
          "base_uri": "https://localhost:8080/"
        },
        "id": "O5fA_c2ylRF3",
        "outputId": "728d8fd3-0335-4144-87c0-1a9a12014d19"
      },
      "outputs": [
        {
          "output_type": "stream",
          "name": "stdout",
          "text": [
            "AB\n",
            "ABC\n",
            "\n",
            "C\n",
            "ABCDEFGHIJ\n",
            "ABCDEFGHI\n",
            "J\n"
          ]
        }
      ],
      "source": [
        "A = 'ABCDEFGHIJ'\n",
        "B = '123456789'\n",
        "\n",
        "print(A[0:2])\n",
        "print(A[0:3])\n",
        "print(A[2:2])\n",
        "print(A[2:3])\n",
        "print(A[ : ])\n",
        "\n",
        "\n",
        "print(A[ :-1])\n",
        "print(A[-1: ])"
      ]
    },
    {
      "cell_type": "markdown",
      "source": [
        "%d - placeholder (marcador de posição). Ele é usado para reservar valores (números) em um vetor.\n",
        "\n",
        "Se você tá falando em formatação de strings, isso é um placeholder para números. A apresentação na string formatada sempre vai ser um número inteiro, mesmo que o parâmetro seja um número de ponto flutuante. Desta forma difere de usar %s que sempre vai mostrar o número na \"forma original\"."
      ],
      "metadata": {
        "id": "SUUZrLuvqeoU"
      }
    },
    {
      "cell_type": "code",
      "source": [],
      "metadata": {
        "id": "vhS2xiJarSH0"
      },
      "execution_count": null,
      "outputs": []
    }
  ]
}
