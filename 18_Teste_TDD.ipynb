{
  "nbformat": 4,
  "nbformat_minor": 0,
  "metadata": {
    "colab": {
      "provenance": [],
      "authorship_tag": "ABX9TyMMTkQM06Db1zh20MKoSJJO",
      "include_colab_link": true
    },
    "kernelspec": {
      "name": "python3",
      "display_name": "Python 3"
    },
    "language_info": {
      "name": "python"
    }
  },
  "cells": [
    {
      "cell_type": "markdown",
      "metadata": {
        "id": "view-in-github",
        "colab_type": "text"
      },
      "source": [
        "<a href=\"https://colab.research.google.com/github/Louis-Araujo/Louis-Rodrigues-Castro-de-Araujo/blob/main/18_Teste_TDD.ipynb\" target=\"_parent\"><img src=\"https://colab.research.google.com/assets/colab-badge.svg\" alt=\"Open In Colab\"/></a>"
      ]
    },
    {
      "cell_type": "code",
      "execution_count": 8,
      "metadata": {
        "colab": {
          "base_uri": "https://localhost:8080/",
          "height": 454
        },
        "id": "atVOg876m3Tt",
        "outputId": "c312830c-9b77-43e4-d1b5-63b4a7dc88f7"
      },
      "outputs": [
        {
          "output_type": "stream",
          "name": "stdout",
          "text": [
            "Drive already mounted at /content/drive; to attempt to forcibly remount, call drive.mount(\"/content/drive\", force_remount=True).\n",
            "O caminho fornecido foi: /content/drive/MyDrive/Colab Notebooks/Alg_teste/18 - Teste TDD.ipynb\n",
            "[NbConvertApp] Converting notebook /content/drive/MyDrive/Colab Notebooks/Alg_teste/18 - Teste TDD.ipynb to script\n",
            "[NbConvertApp] Writing 2223 bytes to /content/drive/MyDrive/Colab Notebooks/Alg_teste/18 - Teste TDD.txt\n"
          ]
        },
        {
          "output_type": "error",
          "ename": "SyntaxError",
          "evalue": "invalid syntax (18 - Teste TDD.py, line 19)",
          "traceback": [
            "Traceback \u001b[0;36m(most recent call last)\u001b[0m:\n",
            "  File \u001b[1;32m\"/usr/local/lib/python3.10/dist-packages/IPython/core/interactiveshell.py\"\u001b[0m, line \u001b[1;32m3553\u001b[0m, in \u001b[1;35mrun_code\u001b[0m\n    exec(code_obj, self.user_global_ns, self.user_ns)\n",
            "  File \u001b[1;32m\"<ipython-input-8-3151c05481cb>\"\u001b[0m, line \u001b[1;32m31\u001b[0m, in \u001b[1;35m<cell line: 31>\u001b[0m\n    spec.loader.exec_module(tdd_module)\n",
            "  File \u001b[1;32m\"<frozen importlib._bootstrap_external>\"\u001b[0m, line \u001b[1;32m879\u001b[0m, in \u001b[1;35mexec_module\u001b[0m\n",
            "  File \u001b[1;32m\"<frozen importlib._bootstrap_external>\"\u001b[0m, line \u001b[1;32m1017\u001b[0m, in \u001b[1;35mget_code\u001b[0m\n",
            "  File \u001b[1;32m\"<frozen importlib._bootstrap_external>\"\u001b[0m, line \u001b[1;32m947\u001b[0m, in \u001b[1;35msource_to_code\u001b[0m\n",
            "\u001b[0;36m  File \u001b[0;32m\"<frozen importlib._bootstrap>\"\u001b[0;36m, line \u001b[0;32m241\u001b[0;36m, in \u001b[0;35m_call_with_frames_removed\u001b[0;36m\u001b[0m\n",
            "\u001b[0;36m  File \u001b[0;32m\"/content/drive/MyDrive/Colab Notebooks/Alg_teste/18 - Teste TDD.py\"\u001b[0;36m, line \u001b[0;32m19\u001b[0m\n\u001b[0;31m    !jupyter nbconvert --to script \"{caminho}\"\u001b[0m\n\u001b[0m    ^\u001b[0m\n\u001b[0;31mSyntaxError\u001b[0m\u001b[0;31m:\u001b[0m invalid syntax\n"
          ]
        }
      ],
      "source": [
        "from google.colab import drive\n",
        "import os\n",
        "import importlib.util\n",
        "import unittest\n",
        "\n",
        "drive.mount('/content/drive')\n",
        "\n",
        "#navegar pro diretorio de destino\n",
        "os.chdir('/content/drive/MyDrive/Colab Notebooks/Alg_teste')\n",
        "\n",
        "# Perguntar ao usuário o caminho do arquivo no Google Drive\n",
        "caminho = \"/content/drive/MyDrive/Colab Notebooks/Alg_teste/18 - Teste TDD.ipynb\"\n",
        "# Google Drive (ex: '/content/drive/MyDrive/Colab Notebooks/20241_alg_est/18_tdd.ipynb'):\n",
        "\n",
        "# Exibir o caminho fornecido pelo usuário\n",
        "print(f\"O caminho fornecido foi: {caminho}\")\n",
        "\n",
        "# Converter o notebook para um script Python\n",
        "!jupyter nbconvert --to script \"{caminho}\"\n",
        "\n",
        "# Substituir a extensão '.ipynb' por '.py' para localizar o arquivo convertido\n",
        "caminho_py = caminho.replace('.ipynb', '.py')\n",
        "\n",
        "# Caso o arquivo tenha sido gerado como '.txt', renomeie para '.py'\n",
        "if os.path.exists(caminho_py.replace('.py', '.txt')):\n",
        "    os.rename(caminho_py.replace('.py', '.txt'), caminho_py)\n",
        "\n",
        "# Importar o script Python gerado\n",
        "spec = importlib.util.spec_from_file_location(\"tdd_module\", caminho_py)\n",
        "tdd_module = importlib.util.module_from_spec(spec)\n",
        "spec.loader.exec_module(tdd_module)\n"
      ]
    },
    {
      "cell_type": "code",
      "source": [
        "# Definir os testes\n",
        "class TestFuncoesAleatorias(unittest.TestCase):\n",
        "\n",
        "    def test_gerar_lista_aleatoria(self):\n",
        "        lista = tdd_module.gerar_lista_aleatoria()\n",
        "        self.assertEqual(len(lista), 28)\n",
        "        for num in lista:\n",
        "            self.assertTrue(1 <= num <= 100)\n",
        "\n",
        "    def test_gerar_lista_aleatoria_distintos(self):\n",
        "        lista = tdd_module.gerar_lista_aleatoria_distintos()\n",
        "        self.assertEqual(len(lista), 28)\n",
        "        self.assertEqual(len(set(lista)), 28)  # Verifica se todos os elementos são únicos\n",
        "        for num in lista:\n",
        "            self.assertTrue(1 <= num <= 100)\n",
        "\n",
        "    def test_embaralhar_lista(self):\n",
        "        lista_original = [i for i in range(1, 29)]\n",
        "        lista_embaralhada = tdd_module.embaralhar_lista(lista_original.copy())\n",
        "\n",
        "        self.assertEqual(len(lista_embaralhada), 28)\n",
        "        self.assertCountEqual(lista_original, lista_embaralhada)  # Verifica se contém os mesmos elementos\n",
        "        self.assertNotEqual(lista_original, lista_embaralhada)  # Verifica se a ordem é diferente\n",
        "\n",
        "# Executar os testes\n",
        "if __name__ == '__main__':\n",
        "    unittest.main(argv=[''], verbosity=2, exit=False)\n"
      ],
      "metadata": {
        "id": "JeR5F3GWs3xi"
      },
      "execution_count": null,
      "outputs": []
    }
  ]
}