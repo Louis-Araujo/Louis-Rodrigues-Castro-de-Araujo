{
  "nbformat": 4,
  "nbformat_minor": 0,
  "metadata": {
    "colab": {
      "provenance": [],
      "authorship_tag": "ABX9TyM0RmDPMG+I28AVsVFmKAED",
      "include_colab_link": true
    },
    "kernelspec": {
      "name": "python3",
      "display_name": "Python 3"
    },
    "language_info": {
      "name": "python"
    }
  },
  "cells": [
    {
      "cell_type": "markdown",
      "metadata": {
        "id": "view-in-github",
        "colab_type": "text"
      },
      "source": [
        "<a href=\"https://colab.research.google.com/github/Louis-Araujo/Louis-Rodrigues-Castro-de-Araujo/blob/main/18_Teste_TDD.ipynb\" target=\"_parent\"><img src=\"https://colab.research.google.com/assets/colab-badge.svg\" alt=\"Open In Colab\"/></a>"
      ]
    },
    {
      "cell_type": "code",
      "execution_count": 12,
      "metadata": {
        "colab": {
          "base_uri": "https://localhost:8080/"
        },
        "id": "atVOg876m3Tt",
        "outputId": "150baedb-c752-4d57-9c3f-41e0dd95892b"
      },
      "outputs": [
        {
          "output_type": "stream",
          "name": "stdout",
          "text": [
            "Drive already mounted at /content/drive; to attempt to forcibly remount, call drive.mount(\"/content/drive\", force_remount=True).\n",
            "O caminho fornecido foi: /content/drive/MyDrive/Colab Notebooks/Alg_teste/18 - TDD.ipynb\n",
            "[NbConvertApp] Converting notebook /content/drive/MyDrive/Colab Notebooks/Alg_teste/18 - TDD.ipynb to script\n",
            "[NbConvertApp] Writing 634 bytes to /content/drive/MyDrive/Colab Notebooks/Alg_teste/18 - TDD.txt\n"
          ]
        }
      ],
      "source": [
        "from google.colab import drive\n",
        "import os\n",
        "import importlib.util\n",
        "import unittest\n",
        "\n",
        "drive.mount('/content/drive')\n",
        "\n",
        "#navegar pro diretorio de destino\n",
        "os.chdir('/content/drive/MyDrive/Colab Notebooks/Alg_teste')\n",
        "\n",
        "# Perguntar ao usuário o caminho do arquivo no Google Drive\n",
        "caminho = \"/content/drive/MyDrive/Colab Notebooks/Alg_teste/18 - TDD.ipynb\"\n",
        "# Google Drive (ex: '/content/drive/MyDrive/Colab Notebooks/20241_alg_est/18_tdd.ipynb'):\n",
        "\n",
        "# Exibir o caminho fornecido pelo usuário\n",
        "print(f\"O caminho fornecido foi: {caminho}\")\n",
        "\n",
        "# Converter o notebook para um script Python\n",
        "!jupyter nbconvert --to script \"{caminho}\"\n",
        "\n",
        "# Substituir a extensão '.ipynb' por '.py' para localizar o arquivo convertido\n",
        "caminho_py = caminho.replace('.ipynb', '.py')\n",
        "\n",
        "# Caso o arquivo tenha sido gerado como '.txt', renomeie para '.py'\n",
        "if os.path.exists(caminho_py.replace('.py', '.txt')):\n",
        "    os.rename(caminho_py.replace('.py', '.txt'), caminho_py)\n",
        "\n",
        "# Importar o script Python gerado\n",
        "spec = importlib.util.spec_from_file_location(\"tdd_module\", caminho_py)\n",
        "tdd_module = importlib.util.module_from_spec(spec)\n",
        "spec.loader.exec_module(tdd_module)\n"
      ]
    },
    {
      "cell_type": "code",
      "source": [
        "# Definir os testes\n",
        "class TestFuncoesAleatorias(unittest.TestCase):\n",
        "\n",
        "    def test_gerar_lista_aleatoria(self):\n",
        "        lista = tdd_module.gerar_lista_aleatoria()\n",
        "        self.assertEqual(len(lista), 28)\n",
        "        for num in lista:\n",
        "            self.assertTrue(1 <= num <= 100)\n",
        "\n",
        "    def test_gerar_lista_aleatoria_distintos(self):\n",
        "        lista = tdd_module.gerar_lista_aleatoria_distintos()\n",
        "        self.assertEqual(len(lista), 28)\n",
        "        self.assertEqual(len(set(lista)), 28)  # Verifica se todos os elementos são únicos\n",
        "        for num in lista:\n",
        "            self.assertTrue(1 <= num <= 100)\n",
        "\n",
        "    def test_embaralhar_lista(self):\n",
        "        lista_original = [i for i in range(1, 29)]\n",
        "        lista_embaralhada = tdd_module.embaralhar_lista(lista_original.copy())\n",
        "\n",
        "        self.assertEqual(len(lista_embaralhada), 28)\n",
        "        self.assertCountEqual(lista_original, lista_embaralhada)  # Verifica se contém os mesmos elementos\n",
        "        self.assertNotEqual(lista_original, lista_embaralhada)  # Verifica se a ordem é diferente\n",
        "\n",
        "# Executar os testes\n",
        "if __name__ == '__main__':\n",
        "    unittest.main(argv=[''], verbosity=2, exit=False)\n"
      ],
      "metadata": {
        "colab": {
          "base_uri": "https://localhost:8080/"
        },
        "id": "JeR5F3GWs3xi",
        "outputId": "2c55c13f-e30e-4e43-f472-6f9963d26953"
      },
      "execution_count": 9,
      "outputs": [
        {
          "output_type": "stream",
          "name": "stderr",
          "text": [
            "test_embaralhar_lista (__main__.TestFuncoesAleatorias) ... ERROR\n",
            "test_gerar_lista_aleatoria (__main__.TestFuncoesAleatorias) ... ERROR\n",
            "test_gerar_lista_aleatoria_distintos (__main__.TestFuncoesAleatorias) ... ERROR\n",
            "\n",
            "======================================================================\n",
            "ERROR: test_embaralhar_lista (__main__.TestFuncoesAleatorias)\n",
            "----------------------------------------------------------------------\n",
            "Traceback (most recent call last):\n",
            "  File \"<ipython-input-9-8704326cf49b>\", line 19, in test_embaralhar_lista\n",
            "    lista_embaralhada = tdd_module.embaralhar_lista(lista_original.copy())\n",
            "AttributeError: module 'tdd_module' has no attribute 'embaralhar_lista'\n",
            "\n",
            "======================================================================\n",
            "ERROR: test_gerar_lista_aleatoria (__main__.TestFuncoesAleatorias)\n",
            "----------------------------------------------------------------------\n",
            "Traceback (most recent call last):\n",
            "  File \"<ipython-input-9-8704326cf49b>\", line 5, in test_gerar_lista_aleatoria\n",
            "    lista = tdd_module.gerar_lista_aleatoria()\n",
            "AttributeError: module 'tdd_module' has no attribute 'gerar_lista_aleatoria'\n",
            "\n",
            "======================================================================\n",
            "ERROR: test_gerar_lista_aleatoria_distintos (__main__.TestFuncoesAleatorias)\n",
            "----------------------------------------------------------------------\n",
            "Traceback (most recent call last):\n",
            "  File \"<ipython-input-9-8704326cf49b>\", line 11, in test_gerar_lista_aleatoria_distintos\n",
            "    lista = tdd_module.gerar_lista_aleatoria_distintos()\n",
            "AttributeError: module 'tdd_module' has no attribute 'gerar_lista_aleatoria_distintos'\n",
            "\n",
            "----------------------------------------------------------------------\n",
            "Ran 3 tests in 0.016s\n",
            "\n",
            "FAILED (errors=3)\n"
          ]
        }
      ]
    }
  ]
}