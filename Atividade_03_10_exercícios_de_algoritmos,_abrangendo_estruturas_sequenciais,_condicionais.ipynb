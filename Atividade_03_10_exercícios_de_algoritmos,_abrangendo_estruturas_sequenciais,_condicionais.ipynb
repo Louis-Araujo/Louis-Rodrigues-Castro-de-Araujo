{
  "nbformat": 4,
  "nbformat_minor": 0,
  "metadata": {
    "colab": {
      "provenance": [],
      "authorship_tag": "ABX9TyPSwNjv15X9FweR9wOYRJmJ",
      "include_colab_link": true
    },
    "kernelspec": {
      "name": "python3",
      "display_name": "Python 3"
    },
    "language_info": {
      "name": "python"
    }
  },
  "cells": [
    {
      "cell_type": "markdown",
      "metadata": {
        "id": "view-in-github",
        "colab_type": "text"
      },
      "source": [
        "<a href=\"https://colab.research.google.com/github/Louis-Araujo/Louis-Rodrigues-Castro-de-Araujo/blob/main/Atividade_03_10_exerc%C3%ADcios_de_algoritmos%2C_abrangendo_estruturas_sequenciais%2C_condicionais.ipynb\" target=\"_parent\"><img src=\"https://colab.research.google.com/assets/colab-badge.svg\" alt=\"Open In Colab\"/></a>"
      ]
    },
    {
      "cell_type": "markdown",
      "source": [
        "Atividade 03: 10 exercícios de algoritmos, abrangendo estruturas sequenciais, condicionais (apenas if) e de repetição (for):"
      ],
      "metadata": {
        "id": "K3CXzYUPRhNW"
      }
    },
    {
      "cell_type": "markdown",
      "source": [
        "1. **Calculadora de IMC (Índice de Massa Corporal):**\n",
        "\n",
        "  Solicite ao usuário seu peso e altura.\n",
        "\n",
        "  Calcule o IMC usando a fórmula: IMC = peso / (altura * altura).\n",
        "  \n",
        "  Classifique o resultado em baixo peso, peso normal, sobrepeso ou obesidade, utilizando as faixas de IMC comuns.\n",
        "\n",
        "\n",
        "\n"
      ],
      "metadata": {
        "id": "mtzOJU37Rk7U"
      }
    },
    {
      "cell_type": "code",
      "source": [
        "peso = 0\n",
        "altura = 0\n",
        "IMC = 0\n",
        "peso = float(input(\"Digite seu peso em Kg? \\n\"))\n",
        "altura = float(input(\"Qual sua altura em metros? \\n\"))\n",
        "IMC = (peso / (altura * altura))\n",
        "print(\"Seu IMC é: \"   ,     IMC)\n",
        "\n",
        "if IMC < 18.5:\n",
        "     print(\"Você está abaixo do peso\")\n",
        "elif IMC >= 18.5 and IMC < 25:\n",
        "     print(\"Você está no peso ideal\")\n",
        "elif IMC >= 25 and IMC < 29.9:\n",
        "     print(\"Você está com sobrepeso\")\n",
        "elif IMC >30:\n",
        "     print(\"Você está obeso\")"
      ],
      "metadata": {
        "colab": {
          "base_uri": "https://localhost:8080/"
        },
        "id": "on0343ykSL5Q",
        "outputId": "f9a05b9e-4a69-4753-da27-09691ee9400c"
      },
      "execution_count": 2,
      "outputs": [
        {
          "output_type": "stream",
          "name": "stdout",
          "text": [
            "Digite seu peso em Kg? \n",
            "65\n",
            "Qual sua altura em metros? \n",
            "1.65\n",
            "Seu IMC é:  23.875114784205696\n",
            "Você está no peso ideal\n"
          ]
        }
      ]
    },
    {
      "cell_type": "markdown",
      "source": [
        "\n",
        "**2. Verificador de Número Par ou Ímpar:**\n",
        "\n",
        "Solicite ao usuário um número inteiro.\n",
        "\n",
        "Verifique se o número é par ou ímpar.\n",
        "\n",
        "Exiba uma mensagem correspondente.\n"
      ],
      "metadata": {
        "id": "CEj-2O9oYuNf"
      }
    },
    {
      "cell_type": "code",
      "source": [
        "a = int(input(\"Digite um número inteiro: \\n\"))\n",
        "\n",
        "if a%2==0:\n",
        "\tprint(\"É par\")\n",
        "else:\n",
        "  print(\"É ímpar\")"
      ],
      "metadata": {
        "colab": {
          "base_uri": "https://localhost:8080/"
        },
        "id": "wJhvuocOYyu4",
        "outputId": "676c92ed-5b99-498e-a3b2-779581a3ac9e"
      },
      "execution_count": 13,
      "outputs": [
        {
          "output_type": "stream",
          "name": "stdout",
          "text": [
            "Digite um número inteiro: \n",
            "13\n",
            "É ímpar\n"
          ]
        }
      ]
    },
    {
      "cell_type": "markdown",
      "source": [
        "**3. Conversor de Temperatura:**\n",
        "\n",
        "Solicite ao usuário uma temperatura em Celsius.\n",
        "\n",
        "Converta a temperatura para Fahrenheit usando a fórmula: F = C * 9/5 + 32.\n",
        "\n",
        "Exiba o resultado da conversão."
      ],
      "metadata": {
        "id": "tZxcP-1JeYyG"
      }
    },
    {
      "cell_type": "code",
      "source": [
        "tempC = float(input(\"Digite a temperatura em °C \\n\"))\n",
        "tempF = tempC * 9 / 5 + 32\n",
        "print(\"A temperatura em Fahrenheit é: \", tempF)"
      ],
      "metadata": {
        "colab": {
          "base_uri": "https://localhost:8080/"
        },
        "id": "MTNfHvJYeiq3",
        "outputId": "3d2804c8-8699-40d7-cab2-4053800d9480"
      },
      "execution_count": 14,
      "outputs": [
        {
          "output_type": "stream",
          "name": "stdout",
          "text": [
            "Digite a temperatura em °C \n",
            "24\n",
            "A temperatura em Fahrenheit é:  75.2\n"
          ]
        }
      ]
    },
    {
      "cell_type": "markdown",
      "source": [
        "**4. Tabuada de Multiplicação:**\n",
        "\n",
        "Solicite ao usuário um número.\n",
        "\n",
        "Exiba a tabuada de multiplicação desse número de 1 a 10."
      ],
      "metadata": {
        "id": "W-0-ClD7ew22"
      }
    },
    {
      "cell_type": "markdown",
      "source": [
        "Opção de resolução 1"
      ],
      "metadata": {
        "id": "nEJGqCCjfB2z"
      }
    },
    {
      "cell_type": "code",
      "source": [
        "a = int(input(\"digite o valor a ser multiplicado:\\n\"))\n",
        "b = 1\n",
        "\n",
        "print(a, \"x 1 = \", a*1)\n",
        "print(a, \"x 2 = \", a*2)\n",
        "print(a, \"x 3 = \", a*3)\n",
        "print(a, \"x 4 = \", a*4)\n",
        "print(a, \"x 5 = \", a*5)\n",
        "print(a, \"x 6 = \", a*6)\n",
        "print(a, \"x 7 = \", a*7)\n",
        "print(a, \"x 8 = \", a*8)\n",
        "print(a, \"x 9 = \", a*9)\n",
        "print(a, \"x 10 = \", a*10)"
      ],
      "metadata": {
        "colab": {
          "base_uri": "https://localhost:8080/"
        },
        "id": "TFnKnPxAfgvH",
        "outputId": "ac9939e6-e70f-492e-d896-865d0d7ee8f3"
      },
      "execution_count": 19,
      "outputs": [
        {
          "output_type": "stream",
          "name": "stdout",
          "text": [
            "digite o valor a ser multiplicado:\n",
            "3\n",
            "3 x 1 =  3\n",
            "3 x 2 =  6\n",
            "3 x 3 =  9\n",
            "3 x 4 =  12\n",
            "3 x 5 =  15\n",
            "3 x 6 =  18\n",
            "3 x 7 =  21\n",
            "3 x 8 =  24\n",
            "3 x 9 =  27\n",
            "3 x 10 =  30\n"
          ]
        }
      ]
    },
    {
      "cell_type": "markdown",
      "source": [
        "Opção de resolução 2"
      ],
      "metadata": {
        "id": "VwQJ8evAfOfQ"
      }
    },
    {
      "cell_type": "code",
      "source": [
        "a = int(input(\"digite o valor a ser multiplicado:\\n\"))\n",
        "b = 1\n",
        "\n",
        "while b <= 10:\n",
        "     print(a, \"x\", b, \"=\", a*b)\n",
        "     b = b + 1"
      ],
      "metadata": {
        "colab": {
          "base_uri": "https://localhost:8080/"
        },
        "id": "eqfMNai4foUU",
        "outputId": "7f63b2a5-cf06-4bb7-e8a1-4dca40f2a99b"
      },
      "execution_count": 20,
      "outputs": [
        {
          "output_type": "stream",
          "name": "stdout",
          "text": [
            "digite o valor a ser multiplicado:\n",
            "3\n",
            "3 x 1 = 3\n",
            "3 x 2 = 6\n",
            "3 x 3 = 9\n",
            "3 x 4 = 12\n",
            "3 x 5 = 15\n",
            "3 x 6 = 18\n",
            "3 x 7 = 21\n",
            "3 x 8 = 24\n",
            "3 x 9 = 27\n",
            "3 x 10 = 30\n"
          ]
        }
      ]
    },
    {
      "cell_type": "markdown",
      "source": [
        "**5. Cálculo de Média Ponderada:**\n",
        "\n",
        "Solicite ao usuário três notas e seus respectivos pesos.\n",
        "\n",
        "Calcule a média ponderada das notas.\n",
        "\n",
        "Exiba o resultado da média."
      ],
      "metadata": {
        "id": "5ck6E-XhfdYa"
      }
    },
    {
      "cell_type": "code",
      "source": [
        "n1 = float(input(\"Digite a nota 1 (peso 2):  \\n\"))\n",
        "n2 = float(input(\"Digite a nota 2 (peso 3):  \\n\"))\n",
        "n3 = float(input(\"Digite a nota 3 (peso 4):  \\n\"))\n",
        "\n",
        "media = ((n1*2) + (n2*3) + (n3*4))/9\n",
        "print(\"A média é: \", media)"
      ],
      "metadata": {
        "colab": {
          "base_uri": "https://localhost:8080/"
        },
        "id": "JDFOrUrLf53t",
        "outputId": "00227905-ea57-4158-c64c-036fd04ea1f2"
      },
      "execution_count": 26,
      "outputs": [
        {
          "output_type": "stream",
          "name": "stdout",
          "text": [
            "Digite a nota 1 (peso 2):  \n",
            "6.0\n",
            "Digite a nota 2 (peso 3):  \n",
            "9.0\n",
            "Digite a nota 3 (peso 4):  \n",
            "8.0\n",
            "A média é:  7.888888888888889\n"
          ]
        }
      ]
    },
    {
      "cell_type": "markdown",
      "source": [
        "**6. Verificador de Ano Bissexto:**\n",
        "\n",
        "Solicite ao usuário um ano.\n",
        "\n",
        "Verifique se o ano é bissexto.\n",
        "\n",
        "Exiba uma mensagem correspondente."
      ],
      "metadata": {
        "id": "xCmeAzAAqrl1"
      }
    },
    {
      "cell_type": "code",
      "source": [
        "ano = int(input(\"Digite um ano: \\n\"))\n",
        "\n",
        "if (ano % 4 == 0 and ano % 100 != 0) or (ano % 400 == 0):\n",
        "    print(ano, \"é um ano bissexto.\")\n",
        "else:\n",
        "    print(ano, \"não é um ano bissexto.\")"
      ],
      "metadata": {
        "colab": {
          "base_uri": "https://localhost:8080/"
        },
        "id": "Ud9I-vNY0QDO",
        "outputId": "bc23d25a-a690-47f3-db0c-9086ceb3f594"
      },
      "execution_count": 61,
      "outputs": [
        {
          "output_type": "stream",
          "name": "stdout",
          "text": [
            "Digite um ano: 2028\n",
            "2028 é um ano bissexto.\n"
          ]
        }
      ]
    },
    {
      "cell_type": "markdown",
      "source": [
        "**7. Contador de Vogais em uma String:**\n",
        "\n",
        "Solicite ao usuário uma string.\n",
        "\n",
        "Conte e exiba o número de vogais na string (a, e, i, o, u)."
      ],
      "metadata": {
        "id": "X_ZNzBknq2ZF"
      }
    },
    {
      "cell_type": "markdown",
      "source": [
        "Opção de resolução 1"
      ],
      "metadata": {
        "id": "othphr5d3zLJ"
      }
    },
    {
      "cell_type": "code",
      "source": [
        "entrada = input(\"Digite uma string (palavra, frase ou texto): \\n\").lower()\n",
        "contador_vogais = 0\n",
        "\n",
        "for letra in entrada:\n",
        "    if letra == 'a' or letra == 'e' or letra == 'i' or letra == 'o' or letra == 'u':\n",
        "        contador_vogais += 1\n",
        "\n",
        "print(\"O número de vogais é:\", contador_vogais)"
      ],
      "metadata": {
        "colab": {
          "base_uri": "https://localhost:8080/"
        },
        "id": "Iu6yd-6S1nVi",
        "outputId": "79405b93-9fb3-4428-c066-b4da241a4aa6"
      },
      "execution_count": 63,
      "outputs": [
        {
          "output_type": "stream",
          "name": "stdout",
          "text": [
            "Digite uma string (palavra, frase ou texto): palavra\n",
            "O número de vogais é: 3\n"
          ]
        }
      ]
    },
    {
      "cell_type": "markdown",
      "source": [
        "Opção de resolução 2"
      ],
      "metadata": {
        "id": "-FWe4K6z3vpD"
      }
    },
    {
      "cell_type": "code",
      "source": [
        "string = input(\"Digite uma string (palavra, frase ou texto): \\n\").lower()\n",
        "vogais = 'aeiou'\n",
        "número_vogais = 0\n",
        "\n",
        "for letra in string:\n",
        "    if letra in vogais:\n",
        "        número_vogais += 1\n",
        "\n",
        "print(\"O número de vogais na string é:\", contador_vogais)"
      ],
      "metadata": {
        "colab": {
          "base_uri": "https://localhost:8080/"
        },
        "id": "CTfXWEkY1rVj",
        "outputId": "a44882f5-0a48-4e10-c9c9-0ff8d35b0092"
      },
      "execution_count": 66,
      "outputs": [
        {
          "output_type": "stream",
          "name": "stdout",
          "text": [
            "Digite uma string (palavra, frase ou texto): palavra\n",
            "O número de vogais na string é: 3\n"
          ]
        }
      ]
    },
    {
      "cell_type": "markdown",
      "source": [
        "**8. Calculadora de Fatorial:**\n",
        "\n",
        "Solicite ao usuário um número inteiro positivo.\n",
        "\n",
        "Calcule e exiba o fatorial desse número."
      ],
      "metadata": {
        "id": "s26zwudRrXej"
      }
    },
    {
      "cell_type": "code",
      "source": [
        "n = int(input(\"Digite um número inteiro positivo: \\n\"))\n",
        "if n < 0:\n",
        "    print(\"O número fornecido não é inteiro positivo.\")\n",
        "else:\n",
        "    fatorial = 1\n",
        "    i = 1\n",
        "    while i <= n:\n",
        "      fatorial = fatorial * i\n",
        "      i = i + 1\n",
        "    print(\"O fatorial de\", n, \"é\", fatorial)"
      ],
      "metadata": {
        "colab": {
          "base_uri": "https://localhost:8080/"
        },
        "id": "sHtH7p8O4d2S",
        "outputId": "a5efa31f-7941-4198-c73d-2edea45de170"
      },
      "execution_count": 78,
      "outputs": [
        {
          "output_type": "stream",
          "name": "stdout",
          "text": [
            "Digite um número inteiro positivo: \n",
            "6\n",
            "O fatorial de 6 é 720\n"
          ]
        }
      ]
    },
    {
      "cell_type": "markdown",
      "source": [
        "**9. Soma dos Números Pares em um Intervalo:**\n",
        "\n",
        "Solicite ao usuário dois números inteiros que representam um intervalo.\n",
        "\n",
        "Calcule e exiba a soma de todos os números pares dentro desse intervalo."
      ],
      "metadata": {
        "id": "QrO7xGhzgjxW"
      }
    },
    {
      "cell_type": "code",
      "source": [
        "a = int(input(\"digite o valor inicial:\\n\"))\n",
        "b = int(input(\"digite o valor final:\\n\"))\n",
        "soma = 0\n",
        "\n",
        "while a<=b:\n",
        "    if a % 2 == 0:\n",
        "      soma=soma+a\n",
        "    a=a+1\n",
        "\n",
        "print(\"a soma dos valores pares, dentro do intervalo fornecido, é: \", soma)"
      ],
      "metadata": {
        "colab": {
          "base_uri": "https://localhost:8080/"
        },
        "id": "JDw9rGyugqRq",
        "outputId": "ffc87318-0325-4a44-f3bb-b40de7577487"
      },
      "execution_count": 46,
      "outputs": [
        {
          "output_type": "stream",
          "name": "stdout",
          "text": [
            "digite o valor inicial:\n",
            "1\n",
            "digite o valor final:\n",
            "10\n",
            "a soma dos valores pares, dentro do intervalo fornecido, é:  30\n"
          ]
        }
      ]
    },
    {
      "cell_type": "markdown",
      "source": [
        "**10. Verificador de Número Primo:**\n",
        "\n",
        "Solicite ao usuário um número inteiro positivo.\n",
        "\n",
        "Verifique se o número é primo.\n",
        "\n",
        "Exiba uma mensagem correspondente."
      ],
      "metadata": {
        "id": "3zsYnqyBqM6Q"
      }
    },
    {
      "cell_type": "code",
      "source": [
        "n = int(input(\"Insira um número inteiro positivo: \\n\"))\n",
        "for i in range(2,n):\n",
        "  if (n % i == 0):\n",
        "    print(\"Não é primo\")\n",
        "    break\n",
        "else:\n",
        "  print(\"É primo\")\n"
      ],
      "metadata": {
        "colab": {
          "base_uri": "https://localhost:8080/"
        },
        "id": "st6x2PkjqR0U",
        "outputId": "8f48ec5e-9fda-4018-87eb-d9da6ffb6221"
      },
      "execution_count": 71,
      "outputs": [
        {
          "output_type": "stream",
          "name": "stdout",
          "text": [
            "Insira um número inteiro positivo: \n",
            "4\n",
            "Não é primo\n"
          ]
        }
      ]
    }
  ]
}