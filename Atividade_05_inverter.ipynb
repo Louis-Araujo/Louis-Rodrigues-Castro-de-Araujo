{
  "nbformat": 4,
  "nbformat_minor": 0,
  "metadata": {
    "colab": {
      "provenance": [],
      "authorship_tag": "ABX9TyMFY9RpXE6tWqmy/zX/gG55",
      "include_colab_link": true
    },
    "kernelspec": {
      "name": "python3",
      "display_name": "Python 3"
    },
    "language_info": {
      "name": "python"
    }
  },
  "cells": [
    {
      "cell_type": "markdown",
      "metadata": {
        "id": "view-in-github",
        "colab_type": "text"
      },
      "source": [
        "<a href=\"https://colab.research.google.com/github/Louis-Araujo/Louis-Rodrigues-Castro-de-Araujo/blob/main/Atividade_05_inverter.ipynb\" target=\"_parent\"><img src=\"https://colab.research.google.com/assets/colab-badge.svg\" alt=\"Open In Colab\"/></a>"
      ]
    },
    {
      "cell_type": "code",
      "execution_count": null,
      "metadata": {
        "id": "3YiSzt-NgnQR",
        "colab": {
          "base_uri": "https://localhost:8080/"
        },
        "outputId": "727804fd-b995-4a40-f485-2f30d2c6828b"
      },
      "outputs": [
        {
          "output_type": "stream",
          "name": "stdout",
          "text": [
            "Digite a string a ser invertida: louis\n",
            "A string invertida é: siuol\n"
          ]
        }
      ],
      "source": [
        "def inverter_string(s):\n",
        "    return s[::-1]\n",
        "\n",
        "def main():\n",
        "    string_original = input('Digite a string a ser invertida: ')\n",
        "    string_invertida = inverter_string(string_original)\n",
        "    print(f'A string invertida é: {string_invertida}')\n",
        "\n",
        "if __name__ == \"__main__\":\n",
        "    main()\n"
      ]
    }
  ]
}