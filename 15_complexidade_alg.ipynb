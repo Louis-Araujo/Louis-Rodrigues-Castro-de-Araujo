{
  "nbformat": 4,
  "nbformat_minor": 0,
  "metadata": {
    "colab": {
      "provenance": [],
      "include_colab_link": true
    },
    "kernelspec": {
      "name": "python3",
      "display_name": "Python 3"
    },
    "language_info": {
      "name": "python"
    }
  },
  "cells": [
    {
      "cell_type": "markdown",
      "metadata": {
        "id": "view-in-github",
        "colab_type": "text"
      },
      "source": [
        "<a href=\"https://colab.research.google.com/github/Louis-Araujo/Louis-Rodrigues-Castro-de-Araujo/blob/main/15_complexidade_alg.ipynb\" target=\"_parent\"><img src=\"https://colab.research.google.com/assets/colab-badge.svg\" alt=\"Open In Colab\"/></a>"
      ]
    },
    {
      "cell_type": "markdown",
      "source": [
        "\n",
        "#1. Constante (O(1))\n",
        "A complexidade constante significa que o tempo de execução não depende do tamanho da entrada.  "
      ],
      "metadata": {
        "id": "AJAUT4jdiRBb"
      }
    },
    {
      "cell_type": "code",
      "execution_count": 21,
      "metadata": {
        "id": "zG0pdK1CiMLG",
        "colab": {
          "base_uri": "https://localhost:8080/"
        },
        "outputId": "a9f26355-df1b-4461-f7ea-ec2574a48a2d"
      },
      "outputs": [
        {
          "output_type": "execute_result",
          "data": {
            "text/plain": [
              "10"
            ]
          },
          "metadata": {},
          "execution_count": 21
        }
      ],
      "source": [
        "def constante(n):\n",
        "    return n * 2  # Operação constante\n",
        "\n",
        "constante(5)"
      ]
    },
    {
      "cell_type": "markdown",
      "source": [
        "# 2. Linear (O(n))\n",
        "A complexidade linear significa que o tempo de execução cresce proporcionalmente ao tamanho da entrada."
      ],
      "metadata": {
        "id": "Yh1mxR80iZvy"
      }
    },
    {
      "cell_type": "code",
      "source": [
        "def linear(n):\n",
        "    for i in range(n):\n",
        "        print(i)  # Operação linear\n",
        "\n",
        "linear(5)"
      ],
      "metadata": {
        "id": "4IcF_xbJiaIq",
        "colab": {
          "base_uri": "https://localhost:8080/"
        },
        "outputId": "aa225171-018e-46be-8bea-f0567d8d72a8"
      },
      "execution_count": 20,
      "outputs": [
        {
          "output_type": "stream",
          "name": "stdout",
          "text": [
            "0\n",
            "1\n",
            "2\n",
            "3\n",
            "4\n"
          ]
        }
      ]
    },
    {
      "cell_type": "markdown",
      "source": [
        "# 3. Logarítmica (O(log n))\n",
        "A complexidade logarítmica é frequentemente associada a algoritmos de divisão e conquista, como a busca binária."
      ],
      "metadata": {
        "id": "zSNI5S0xigQK"
      }
    },
    {
      "cell_type": "code",
      "source": [
        "def logaritmica(arr, target):\n",
        "    low, high = 0, len(arr) - 1\n",
        "    while low <= high:\n",
        "        mid = (low + high) // 2\n",
        "        if arr[mid] == target:\n",
        "            return mid\n",
        "        elif arr[mid] < target:\n",
        "            low = mid + 1\n",
        "        else:\n",
        "            high = mid - 1\n",
        "    return -1\n",
        "\n",
        "logaritmica([1,2,3,4,5],2)"
      ],
      "metadata": {
        "id": "fwyGeSugigoK",
        "colab": {
          "base_uri": "https://localhost:8080/"
        },
        "outputId": "63602de2-61dc-4568-fe28-5381edf7de4c"
      },
      "execution_count": 19,
      "outputs": [
        {
          "output_type": "execute_result",
          "data": {
            "text/plain": [
              "1"
            ]
          },
          "metadata": {},
          "execution_count": 19
        }
      ]
    },
    {
      "cell_type": "markdown",
      "source": [
        "# 4. Logarítmica Linear (O(n log n))\n",
        "A complexidade logarítmica linear é comum em algoritmos de ordenação eficientes como o Merge Sort e o Quick Sort."
      ],
      "metadata": {
        "id": "pZhMS5H6imna"
      }
    },
    {
      "cell_type": "code",
      "source": [
        "def n_log_n(arr):\n",
        "    if len(arr) <= 1:\n",
        "        return arr\n",
        "    mid = len(arr) // 2\n",
        "    left = n_log_n(arr[:mid])\n",
        "    right = n_log_n(arr[mid:])\n",
        "    return merge(left, right)\n",
        "\n",
        "def merge(left, right):\n",
        "    result = []\n",
        "    i = j = 0\n",
        "    while i < len(left) and j < len(right):\n",
        "        if left[i] < right[j]:\n",
        "            result.append(left[i])\n",
        "            i += 1\n",
        "        else:\n",
        "            result.append(right[j])\n",
        "            j += 1\n",
        "    result.extend(left[i:])\n",
        "    result.extend(right[j:])\n",
        "    return result\n",
        "n_log_n([1,10,3,4, 20, 5,6,7,8,9,1])"
      ],
      "metadata": {
        "id": "XxkR1WHpinJC",
        "colab": {
          "base_uri": "https://localhost:8080/"
        },
        "outputId": "a0a1483a-5a8e-438e-981f-900d15e811d6"
      },
      "execution_count": 17,
      "outputs": [
        {
          "output_type": "execute_result",
          "data": {
            "text/plain": [
              "[1, 1, 3, 4, 5, 6, 7, 8, 9, 10, 20]"
            ]
          },
          "metadata": {},
          "execution_count": 17
        }
      ]
    },
    {
      "cell_type": "markdown",
      "source": [
        "# 5. Quadrática (O(n^2))\n",
        "A complexidade quadrática é comum em algoritmos que usam dois loops aninhados."
      ],
      "metadata": {
        "id": "ilnF5ie6itra"
      }
    },
    {
      "cell_type": "code",
      "source": [
        "def quadratica(arr):\n",
        "    for i in range(len(arr)):\n",
        "        for j in range(len(arr)):\n",
        "            print(arr[i], arr[j])  # Operação quadrática\n",
        "quadratica([5,5])"
      ],
      "metadata": {
        "id": "n91zWIzOitGy",
        "colab": {
          "base_uri": "https://localhost:8080/"
        },
        "outputId": "814f0a96-2118-404a-94e0-cd645f5cafd3"
      },
      "execution_count": 14,
      "outputs": [
        {
          "output_type": "stream",
          "name": "stdout",
          "text": [
            "5 5\n",
            "5 5\n",
            "5 5\n",
            "5 5\n"
          ]
        }
      ]
    },
    {
      "cell_type": "markdown",
      "source": [
        "# 6. Exponencial (O(2^n))\n",
        "A complexidade exponencial é comum em problemas que têm múltiplas escolhas em cada etapa, como na solução de problemas combinatórios."
      ],
      "metadata": {
        "id": "0kgQyxvJi1qK"
      }
    },
    {
      "cell_type": "code",
      "source": [
        "def exponencial(n):\n",
        "    if n <= 1:\n",
        "        return 1\n",
        "    else:\n",
        "        return exponencial(n - 1) + exponencial(n - 1)\n",
        "exponencial(5)"
      ],
      "metadata": {
        "id": "3wKkgSL-i156",
        "colab": {
          "base_uri": "https://localhost:8080/"
        },
        "outputId": "3c9e4fb3-3727-49b9-ca6f-1b7972c9f403"
      },
      "execution_count": 13,
      "outputs": [
        {
          "output_type": "execute_result",
          "data": {
            "text/plain": [
              "16"
            ]
          },
          "metadata": {},
          "execution_count": 13
        }
      ]
    },
    {
      "cell_type": "markdown",
      "source": [
        "# 7. Fatorial (O(n!))\n",
        "A complexidade fatorial é comum em algoritmos que geram todas as permutações possíveis."
      ],
      "metadata": {
        "id": "4bKRIlPPi9Zi"
      }
    },
    {
      "cell_type": "code",
      "source": [
        "def fatorial(n):\n",
        "    if n == 0:\n",
        "        return 1\n",
        "    else:\n",
        "        return n * fatorial(n - 1)\n",
        "fatorial(5)"
      ],
      "metadata": {
        "id": "l_rQNon8i95C",
        "colab": {
          "base_uri": "https://localhost:8080/"
        },
        "outputId": "6ba1e04a-539f-4a8f-8191-8801cca5e947"
      },
      "execution_count": 11,
      "outputs": [
        {
          "output_type": "execute_result",
          "data": {
            "text/plain": [
              "120"
            ]
          },
          "metadata": {},
          "execution_count": 11
        }
      ]
    },
    {
      "cell_type": "markdown",
      "source": [
        "# 8. Polinomial (O(n^k))\n",
        "A complexidade polinomial é uma generalização para qualquer função polinomial. Um exemplo comum é um algoritmo de força bruta para resolver um problema."
      ],
      "metadata": {
        "id": "fZjmTB0wjCjS"
      }
    },
    {
      "cell_type": "code",
      "source": [
        "def polinomial(arr):\n",
        "    n = len(arr)\n",
        "    for i in range(n):           # O(n)\n",
        "        for j in range(n):       # O(n)\n",
        "            for k in range(n):   # O(n)\n",
        "                print(arr[i], arr[j], arr[k])  # Operação polinomial O(n^3)\n",
        "polinomial([5,5,5])\n"
      ],
      "metadata": {
        "id": "R8GlAnB2jGUy",
        "colab": {
          "base_uri": "https://localhost:8080/"
        },
        "outputId": "0e556c76-b4a9-4152-e76b-c6767784549e"
      },
      "execution_count": 10,
      "outputs": [
        {
          "output_type": "stream",
          "name": "stdout",
          "text": [
            "5 5 5\n",
            "5 5 5\n",
            "5 5 5\n",
            "5 5 5\n",
            "5 5 5\n",
            "5 5 5\n",
            "5 5 5\n",
            "5 5 5\n",
            "5 5 5\n",
            "5 5 5\n",
            "5 5 5\n",
            "5 5 5\n",
            "5 5 5\n",
            "5 5 5\n",
            "5 5 5\n",
            "5 5 5\n",
            "5 5 5\n",
            "5 5 5\n",
            "5 5 5\n",
            "5 5 5\n",
            "5 5 5\n",
            "5 5 5\n",
            "5 5 5\n",
            "5 5 5\n",
            "5 5 5\n",
            "5 5 5\n",
            "5 5 5\n"
          ]
        }
      ]
    }
  ]
}