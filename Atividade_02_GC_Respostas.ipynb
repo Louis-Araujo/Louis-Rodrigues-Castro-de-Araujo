{
  "nbformat": 4,
  "nbformat_minor": 0,
  "metadata": {
    "colab": {
      "provenance": [],
      "authorship_tag": "ABX9TyN1ztwyrS75HtfTd/6M48rh",
      "include_colab_link": true
    },
    "kernelspec": {
      "name": "python3",
      "display_name": "Python 3"
    },
    "language_info": {
      "name": "python"
    }
  },
  "cells": [
    {
      "cell_type": "markdown",
      "metadata": {
        "id": "view-in-github",
        "colab_type": "text"
      },
      "source": [
        "<a href=\"https://colab.research.google.com/github/Louis-Araujo/Louis-Rodrigues-Castro-de-Araujo/blob/main/Atividade_02_GC_Respostas.ipynb\" target=\"_parent\"><img src=\"https://colab.research.google.com/assets/colab-badge.svg\" alt=\"Open In Colab\"/></a>"
      ]
    },
    {
      "cell_type": "markdown",
      "source": [
        "\n",
        "Questão 01: Como você faria para garantir que as notas inseridas pelo usuário estejam dentro de um intervalo válido (por exemplo, entre 0 e 10)?\n"
      ],
      "metadata": {
        "id": "tG_XWdyb4Nue"
      }
    },
    {
      "cell_type": "code",
      "execution_count": 4,
      "metadata": {
        "colab": {
          "base_uri": "https://localhost:8080/"
        },
        "id": "2g__VXJ9yJbi",
        "outputId": "7180d492-8acb-4f33-b654-e52452ff7805"
      },
      "outputs": [
        {
          "output_type": "stream",
          "name": "stdout",
          "text": [
            "Calculadora de média ponderada do IFRN\n",
            "Digite a nota 1(com peso 2): 60\n",
            "Nota inválida. Por favor, digite um valor entre 0 e 10.\n",
            "Digite a nota 2(com peso 3): 80\n",
            "Nota inválida. Por favor, digite um valor entre 0 e 10.\n"
          ]
        }
      ],
      "source": [
        "print(\"Calculadora de média ponderada do IFRN\")\n",
        "\n",
        "#Flag de validade da nota\n",
        "invalido = 0\n",
        "\n",
        "#Float, tipagem explícita, para garantir número fracionário\n",
        "n1 = float( input(\"Digite a nota 1(com peso 2): \") )\n",
        "if 0 <= n1 <= 10:\n",
        "  print(\"Valor no intervalo\")\n",
        "else:\n",
        "  print(\"Nota inválida. Por favor, digite um valor entre 0 e 10.\")\n",
        "  invalido = 1\n",
        "n2 = float( input(\"Digite a nota 2(com peso 3): \") )\n",
        "if 0 <= n2 <= 10:\n",
        "  print(\"Valor no intervalo\")\n",
        "else:\n",
        "  print(\"Nota inválida. Por favor, digite um valor entre 0 e 10.\")\n",
        "  invalido = 1\n",
        "\n",
        "if invalido == 0:\n",
        "  #calculo de media ponderada\n",
        "  media = (n1 * 2 + n2 * 3) / 5\n",
        "\n",
        "  #impressão da média\n",
        "  print(f\"A média ponderada das notas é: {media:.2f}\")\n",
        "\n",
        "  #apresentar se o aluno foi aprovado ou não\n",
        "  if media >= 6:\n",
        "    print(\"Aprovado\")\n",
        "  else:\n",
        "    if media >= 2:\n",
        "      print(\"Prova final\")\n",
        "    else:\n",
        "      print(\"Reprovado\")"
      ]
    }
  ]
}