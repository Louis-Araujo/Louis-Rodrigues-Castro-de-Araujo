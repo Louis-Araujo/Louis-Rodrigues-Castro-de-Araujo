{
  "nbformat": 4,
  "nbformat_minor": 0,
  "metadata": {
    "colab": {
      "provenance": [],
      "authorship_tag": "ABX9TyOEsPOv/YpdL1PvzIklRmFv",
      "include_colab_link": true
    },
    "kernelspec": {
      "name": "python3",
      "display_name": "Python 3"
    },
    "language_info": {
      "name": "python"
    }
  },
  "cells": [
    {
      "cell_type": "markdown",
      "metadata": {
        "id": "view-in-github",
        "colab_type": "text"
      },
      "source": [
        "<a href=\"https://colab.research.google.com/github/Louis-Araujo/Louis-Rodrigues-Castro-de-Araujo/blob/main/Atividade_05_contar.ipynb\" target=\"_parent\"><img src=\"https://colab.research.google.com/assets/colab-badge.svg\" alt=\"Open In Colab\"/></a>"
      ]
    },
    {
      "cell_type": "markdown",
      "source": [
        "Exercício 5: Contagem de Caracteres em uma String\n",
        "\n",
        "Descrição: Escreva uma função que conte o número de ocorrências de cada caractere\n",
        "em uma string e retorne um dicionário com os resultados"
      ],
      "metadata": {
        "id": "ssaZC8OhZ6w3"
      }
    },
    {
      "cell_type": "code",
      "execution_count": null,
      "metadata": {
        "colab": {
          "base_uri": "https://localhost:8080/"
        },
        "id": "fMaoG1pBZ3gP",
        "outputId": "4362a616-b7c1-4ed3-f732-04ea597a9057"
      },
      "outputs": [
        {
          "output_type": "stream",
          "name": "stdout",
          "text": [
            "Digite a frase a ser analisada: ola mundo o mundo e grande\n",
            "Contagem de caracteres:\n",
            "Caractere: \" \" - Quantidade: 5\n",
            "Caractere: \"a\" - Quantidade: 2\n",
            "Caractere: \"d\" - Quantidade: 3\n",
            "Caractere: \"e\" - Quantidade: 2\n",
            "Caractere: \"g\" - Quantidade: 1\n",
            "Caractere: \"l\" - Quantidade: 1\n",
            "Caractere: \"m\" - Quantidade: 2\n",
            "Caractere: \"n\" - Quantidade: 3\n",
            "Caractere: \"o\" - Quantidade: 4\n",
            "Caractere: \"r\" - Quantidade: 1\n",
            "Caractere: \"u\" - Quantidade: 2\n"
          ]
        }
      ],
      "source": [
        "def contar_caracteres(s):\n",
        "    contagem = {}\n",
        "    for caractere in s:\n",
        "        if caractere in contagem:\n",
        "            contagem[caractere] += 1\n",
        "        else:\n",
        "            contagem[caractere] = 1\n",
        "    return contagem\n",
        "\n",
        "def main():\n",
        "    texto = input('Digite a frase a ser analisada: ')\n",
        "    resultado = contar_caracteres(texto)\n",
        "    print('Contagem de caracteres:')\n",
        "    for caractere, quantidade in sorted(resultado.items()):\n",
        "        print(f'Caractere: \"{caractere}\" - Quantidade: {quantidade}')\n",
        "\n",
        "if __name__ == \"__main__\":\n",
        "    main()\n"
      ]
    }
  ]
}
