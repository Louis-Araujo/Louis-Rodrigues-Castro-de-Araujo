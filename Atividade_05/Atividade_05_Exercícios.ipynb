{
  "nbformat": 4,
  "nbformat_minor": 0,
  "metadata": {
    "colab": {
      "provenance": [],
      "authorship_tag": "ABX9TyOMQ9knq6kJ2yctz931n4uz",
      "include_colab_link": true
    },
    "kernelspec": {
      "name": "python3",
      "display_name": "Python 3"
    },
    "language_info": {
      "name": "python"
    }
  },
  "cells": [
    {
      "cell_type": "markdown",
      "metadata": {
        "id": "view-in-github",
        "colab_type": "text"
      },
      "source": [
        "<a href=\"https://colab.research.google.com/github/Louis-Araujo/Louis-Rodrigues-Castro-de-Araujo/blob/main/Atividade_05_Exerc%C3%ADcios.ipynb\" target=\"_parent\"><img src=\"https://colab.research.google.com/assets/colab-badge.svg\" alt=\"Open In Colab\"/></a>"
      ]
    },
    {
      "cell_type": "markdown",
      "source": [
        "ATIVIDADE 05"
      ],
      "metadata": {
        "id": "qmQaavKkFJJO"
      }
    },
    {
      "cell_type": "markdown",
      "source": [
        "1. Crie um programa que leia um número inteiro. Quando este for negativo, some-o com 100; quando positivo, apenas faça sua impressão."
      ],
      "metadata": {
        "id": "OZD4-shNEdQM"
      }
    },
    {
      "cell_type": "code",
      "execution_count": null,
      "metadata": {
        "colab": {
          "base_uri": "https://localhost:8080/"
        },
        "id": "W4EGRJv2EQla",
        "outputId": "15bad9df-a84e-4e40-90b6-65baabfe0f88"
      },
      "outputs": [
        {
          "output_type": "stream",
          "name": "stdout",
          "text": [
            "Digite um número: 4\n",
            "O número que você informou é: 4\n"
          ]
        }
      ],
      "source": [
        "n = int(input('Digite um número: '))\n",
        "if n < 0:\n",
        "  n += 100\n",
        "  print(f'O número que você informou somado com 100 é {n}')\n",
        "elif n > 0:\n",
        "  print(f'O número que você informou é: {n}')\n"
      ]
    },
    {
      "cell_type": "markdown",
      "source": [
        "2. Crie um programa que leia o código de um curso do IFRN, Campus\n",
        "Natal Central, e indique o nome do curso de acordo com a tabela abaixo. Se o\n",
        "programa ler um código inexistente no Instituto, uma mensagem de alerta deve\n",
        "ser informada ao usuário.\n",
        "\n",
        "Código Curso\n",
        "\n",
        "1 Técnico em Informática\n",
        "Subsequente;\n",
        "\n",
        "2 Técnico em Informática EJA;\n",
        "\n",
        "3 Técnico em Cooperativismo;\n",
        "\n",
        "4 Técnico em Cooperativismo EJA;\n",
        "\n",
        "5 Licenciatura em Física.\n",
        "\n"
      ],
      "metadata": {
        "id": "-XWF9eSBEm1w"
      }
    },
    {
      "cell_type": "code",
      "source": [
        "print('''::::::::::: SEJA BEM VINDO À PLATAFORMA DO IFRN CURSOS :::::::::::::::::::\n",
        "\n",
        "CÓDIGOS DOS CURSOS OFERTADOS:\n",
        "\n",
        "Código 1\n",
        "Código 2\n",
        "Código 3\n",
        "Código 4\n",
        "Código 5\n",
        "__________________________________________________________________________\n",
        "''')\n",
        "cod = int(input('Digite o código que deseja para consultar o curso correspondente: '))\n",
        "print() # pra imprimir uma linha em branco para fins de formatação e organização\n",
        "if cod == 1:\n",
        "  print(f'Curso nº 1: Técnico em Informática Subsequente')\n",
        "elif cod ==2:\n",
        "  print('Curso nº 2: Técnico em Informática EJA')\n",
        "elif cod == 3:\n",
        "  print('Curso nº 3: Técnico em Cooperativismo')\n",
        "elif cod == 4:\n",
        "  print('Curso nº 4: Técnico em Cooperativismo EJA')\n",
        "elif cod == 5:\n",
        "  print('Curso nº 5: Licenciatura em Física')\n",
        "else:\n",
        "  print('ALERTA: Curso não encontrado')\n"
      ],
      "metadata": {
        "colab": {
          "base_uri": "https://localhost:8080/"
        },
        "id": "SayUz25PEn3x",
        "outputId": "621b9931-66bb-40d1-cb24-e0db09b92156"
      },
      "execution_count": null,
      "outputs": [
        {
          "output_type": "stream",
          "name": "stdout",
          "text": [
            "::::::::::: SEJA BEM VINDO À PLATAFORMA DO IFRN CURSOS :::::::::::::::::::\n",
            "\n",
            "CÓDIGOS DOS CURSOS OFERTADOS: \n",
            "\n",
            "Código 1\n",
            "Código 2\n",
            "Código 3\n",
            "Código 4 \n",
            "Código 5 \n",
            "__________________________________________________________________________\n",
            "\n",
            "Digite o código que deseja para consultar o curso correspondente: 9\n",
            "\n",
            "ALERTA: Curso não encontrado\n"
          ]
        }
      ]
    },
    {
      "cell_type": "markdown",
      "source": [
        "3. Leia duas strings e informe o conteúdo delas\n",
        "seguido do seu comprimento.\n",
        "\n",
        "3a. Crie uma variável res1 que informa se as duas\n",
        "strings possuem o mesmo comprimento.\n",
        "\n",
        "Observe o exemplo:\n",
        "\n",
        "● Compara duas strings\n",
        "\n",
        "● string1: Brasil Hexa 2006\n",
        "\n",
        "● string2: Brasil! Hexa 2006!\n",
        "\n",
        "● Tamanho de \"Brasil Hexa 2006\": 16 caracteres\n",
        "\n",
        "● Tamanho de \"Brasil! Hexa 2006!\": 18 caracteres\n",
        "\n",
        "3b. Crie uma variável res2 que informa se as duas strings são iguais ou diferentes no conteúdo.\n",
        "\n",
        "Observe o exemplo:\n",
        "\n",
        "● Compara duas strings\n",
        "\n",
        "● string1: Brasil Hexa 2006\n",
        "\n",
        "● string2: Brasil! Hexa 2006!\n",
        "\n",
        "● Res1 = len(string1) == len(string2)\n",
        "\n",
        "● Res2 = (string1 == string2)"
      ],
      "metadata": {
        "id": "8CShf3dZEoaK"
      }
    },
    {
      "cell_type": "code",
      "source": [
        "nom1 = str(input('Digite uma primeira frase: '))\n",
        "nom2 = str(input('Digite uma segunda frase: '))\n",
        "\n",
        "print(f'A primeira frase fornecida é: {nom1}. Ela possui {len(nom1)} caracteres.')\n",
        "print(f'A segunda frase fornecida é: {nom2}. Ela possui {len(nom2)} caracteres.')\n",
        "\n",
        "# Letras a e b:\n",
        "\n",
        "print(f'Tamanho de \"{nom1}\": {len(nom1)}')\n",
        "print(f'Tamanho de \"{nom2}\": {len(nom2)}')\n",
        "\n",
        "Res1 = len(nom1) == len(nom2)\n",
        "Res2 = (nom1 == nom2)\n",
        "\n",
        "if Res1 is True:\n",
        "  print('As frases possuem a mesma quantidade de caracteres')\n",
        "else:\n",
        "  print('As frases não possuem a mesma quantidade de caracteres')\n",
        "if Res2 is True:\n",
        "  print('A frases são iguais')\n",
        "else:\n",
        "  print('As frases não são iguais')\n",
        ""
      ],
      "metadata": {
        "colab": {
          "base_uri": "https://localhost:8080/"
        },
        "id": "CC4NVo74Ez2o",
        "outputId": "d8143e54-d334-4cf2-9275-8311c53530ac"
      },
      "execution_count": 9,
      "outputs": [
        {
          "output_type": "stream",
          "name": "stdout",
          "text": [
            "Digite uma primeira frase: Brasil Hexa 2006\n",
            "Digite uma segunda frase: Brasil Hexa 2006!\n",
            "A primeira frase fornecida é: Brasil Hexa 2006. Ela possui 16 caracteres.\n",
            "A segunda frase fornecida é: Brasil Hexa 2006!. Ela possui 17 caracteres.\n",
            "Tamanho de \"Brasil Hexa 2006\": 16\n",
            "Tamanho de \"Brasil Hexa 2006!\": 17\n",
            "As frases não possuem a mesma quantidade de caracteres\n",
            "As frases não são iguais\n"
          ]
        }
      ]
    },
    {
      "cell_type": "markdown",
      "source": [
        "4. Faça um programa que lê uma string e corta os dois primeiros caracteres e os dois últimos\n",
        "\n",
        "Exemplo:\n",
        "\n",
        "● B = “0123456789”\n",
        "\n",
        "● Resultado = “234567”"
      ],
      "metadata": {
        "id": "L3uhDFa-E2N6"
      }
    },
    {
      "cell_type": "code",
      "source": [
        "frase = str(input('escreva uma frase: '))\n",
        "\n",
        "print(f'Resultado: \" {frase[2:-2]} \" ')\n",
        "\n"
      ],
      "metadata": {
        "colab": {
          "base_uri": "https://localhost:8080/"
        },
        "id": "LJlnj8LnFDvQ",
        "outputId": "26736ce7-df09-474c-dbad-5770d477c836"
      },
      "execution_count": 8,
      "outputs": [
        {
          "output_type": "stream",
          "name": "stdout",
          "text": [
            "escreva uma frase: 0123456789\n",
            "Resultado: \" 234567 \" \n"
          ]
        }
      ]
    }
  ]
}
