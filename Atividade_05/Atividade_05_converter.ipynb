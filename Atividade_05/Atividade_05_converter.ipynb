{
  "nbformat": 4,
  "nbformat_minor": 0,
  "metadata": {
    "colab": {
      "provenance": [],
      "authorship_tag": "ABX9TyOGRio11WUNp2BkkroNEKLJ",
      "include_colab_link": true
    },
    "kernelspec": {
      "name": "python3",
      "display_name": "Python 3"
    },
    "language_info": {
      "name": "python"
    }
  },
  "cells": [
    {
      "cell_type": "markdown",
      "metadata": {
        "id": "view-in-github",
        "colab_type": "text"
      },
      "source": [
        "<a href=\"https://colab.research.google.com/github/Louis-Araujo/Louis-Rodrigues-Castro-de-Araujo/blob/main/Atividade_05_converter.ipynb\" target=\"_parent\"><img src=\"https://colab.research.google.com/assets/colab-badge.svg\" alt=\"Open In Colab\"/></a>"
      ]
    },
    {
      "cell_type": "code",
      "execution_count": null,
      "metadata": {
        "id": "scK3YhZVf9cg",
        "colab": {
          "base_uri": "https://localhost:8080/"
        },
        "outputId": "c8cdbc55-5b61-4038-b5c5-d3e7415a7108"
      },
      "outputs": [
        {
          "output_type": "stream",
          "name": "stdout",
          "text": [
            "Digite o nome do arquivo de entrada (inclua a extensão, por exemplo \"entrada.txt\"): entrada.txt\n",
            "Digite o nome do arquivo de saída (inclua a extensão, por exemplo \"saida.txt\"): saida.txt\n",
            "O arquivo \"entrada.txt\" não foi encontrado.\n"
          ]
        }
      ],
      "source": [
        "def converter_para_maiusculas(arquivo_entrada, arquivo_saida):\n",
        "    try:\n",
        "        with open(arquivo_entrada, 'r') as entrada:\n",
        "            conteudo = entrada.read()\n",
        "        conteudo_maiusculas = conteudo.upper()\n",
        "        with open(arquivo_saida, 'w') as saida:\n",
        "            saida.write(conteudo_maiusculas)\n",
        "        print(f'O conteúdo do arquivo \"{arquivo_entrada}\" foi convertido para maiúsculas e salvo em \"{arquivo_saida}\".')\n",
        "    except FileNotFoundError:\n",
        "        print(f'O arquivo \"{arquivo_entrada}\" não foi encontrado.')\n",
        "    except IOError as e:\n",
        "        print(f'Erro ao ler ou escrever no arquivo: {e}')\n",
        "\n",
        "def main():\n",
        "    arquivo_entrada = input('Digite o nome do arquivo de entrada (inclua a extensão, por exemplo \"entrada.txt\"): ')\n",
        "    arquivo_saida = input('Digite o nome do arquivo de saída (inclua a extensão, por exemplo \"saida.txt\"): ')\n",
        "    converter_para_maiusculas(arquivo_entrada, arquivo_saida)\n",
        "\n",
        "if __name__ == \"__main__\":\n",
        "    main()\n"
      ]
    }
  ]
}
