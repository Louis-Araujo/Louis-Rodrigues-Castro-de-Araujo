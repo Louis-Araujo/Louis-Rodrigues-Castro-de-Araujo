{
  "cells": [
    {
      "cell_type": "markdown",
      "metadata": {
        "id": "view-in-github",
        "colab_type": "text"
      },
      "source": [
        "<a href=\"https://colab.research.google.com/github/Louis-Araujo/Louis-Rodrigues-Castro-de-Araujo/blob/main/Contador_incremental_decremental_while.ipynb\" target=\"_parent\"><img src=\"https://colab.research.google.com/assets/colab-badge.svg\" alt=\"Open In Colab\"/></a>"
      ]
    },
    {
      "cell_type": "code",
      "execution_count": null,
      "metadata": {
        "id": "Rzn8GbIQnpqK"
      },
      "outputs": [],
      "source": [
        "x = 'texto'\n",
        "i = 0\n",
        "while x :\n",
        "  print(x, end=' ')\n",
        "i = i + 1 #contador encremental"
      ]
    },
    {
      "cell_type": "code",
      "source": [
        "x = 'Louis'\n",
        "while x:\n",
        "  print(x, end = ' ')\n",
        "  x = x[1:]"
      ],
      "metadata": {
        "colab": {
          "base_uri": "https://localhost:8080/"
        },
        "id": "fLT-gtweqdL0",
        "outputId": "a531616e-9aee-49e0-8a14-ff9461437981"
      },
      "execution_count": 5,
      "outputs": [
        {
          "output_type": "stream",
          "name": "stdout",
          "text": [
            "Louis ouis uis is s "
          ]
        }
      ]
    },
    {
      "cell_type": "code",
      "source": [
        "x = 10\n",
        "while x:\n",
        "  #print(\"Valor de x: \") #informação de debbuging (depuração)\n",
        "  #print(x)#informação de debbuging (depuração)\n",
        "  #print(\"Resultado divisão\")#informação de debbuging (depuração)\n",
        "  a= (x % 2)\n",
        "  #print(a)#informação de debbuging (depuração)\n",
        "  x-=1\n",
        "  #if x % 2 != 0: #comparação da diferença, quando o resto da\n",
        "                  #divisao, for diferente de 0\n",
        "  #if x % 2 == 1: #comparação da igualdade, se o resto da divisao\n",
        "                 #for igual a 1 -> contador de pares\n",
        "  if x % 2 != 1: #comparação da diferença, quando o resto da\n",
        "                  #divisao, for diferente de 1 -> contador de impares\n",
        "    continue\n",
        "  print(x,end=' ')"
      ],
      "metadata": {
        "colab": {
          "base_uri": "https://localhost:8080/"
        },
        "id": "-Bhk6OjmrJrw",
        "outputId": "30d71b88-d793-4b7f-db2e-95ed191b421d"
      },
      "execution_count": 6,
      "outputs": [
        {
          "output_type": "stream",
          "name": "stdout",
          "text": [
            "9 7 5 3 1 "
          ]
        }
      ]
    }
  ],
  "metadata": {
    "colab": {
      "provenance": [],
      "authorship_tag": "ABX9TyPL5RvRGDmxco9JfNw41ARF",
      "include_colab_link": true
    },
    "kernelspec": {
      "display_name": "Python 3",
      "name": "python3"
    },
    "language_info": {
      "name": "python"
    }
  },
  "nbformat": 4,
  "nbformat_minor": 0
}