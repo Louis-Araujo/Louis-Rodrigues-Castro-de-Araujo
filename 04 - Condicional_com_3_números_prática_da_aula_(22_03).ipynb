{
  "nbformat": 4,
  "nbformat_minor": 0,
  "metadata": {
    "colab": {
      "provenance": [],
      "authorship_tag": "ABX9TyPCxpsNIBMsMb0rCLNDyDGZ",
      "include_colab_link": true
    },
    "kernelspec": {
      "name": "python3",
      "display_name": "Python 3"
    },
    "language_info": {
      "name": "python"
    }
  },
  "cells": [
    {
      "cell_type": "markdown",
      "metadata": {
        "id": "view-in-github",
        "colab_type": "text"
      },
      "source": [
        "<a href=\"https://colab.research.google.com/github/Louis-Araujo/Louis-Rodrigues-Castro-de-Araujo/blob/main/Condicional_com_3_n%C3%BAmeros_pr%C3%A1tica_da_aula_(22_03).ipynb\" target=\"_parent\"><img src=\"https://colab.research.google.com/assets/colab-badge.svg\" alt=\"Open In Colab\"/></a>"
      ]
    },
    {
      "cell_type": "code",
      "execution_count": 1,
      "metadata": {
        "colab": {
          "base_uri": "https://localhost:8080/"
        },
        "id": "jnmaBcPntbCH",
        "outputId": "8f2aefc3-a367-4615-9d40-c646129fb28a"
      },
      "outputs": [
        {
          "output_type": "stream",
          "name": "stdout",
          "text": [
            "30\n"
          ]
        }
      ],
      "source": [
        "#Crie um código que, a partir de 3 variáveis 'a', 'b' e 'c'\n",
        "#'a', 'b' e 'c' numericas imprimir a maior delas\n",
        "a=10\n",
        "b=20\n",
        "c=30\n",
        "\n",
        "if a < b :\n",
        "  if b < c:\n",
        "    print(c)\n",
        "  else:\n",
        "    print(b)\n",
        "else:\n",
        "  if a > c:\n",
        "    print(c)\n",
        "  else:\n",
        "    print(a)"
      ]
    },
    {
      "cell_type": "code",
      "source": [
        "#Simplificando com funções de python\n",
        "a=10\n",
        "b=20\n",
        "c=30\n",
        "d=40\n",
        "e=50\n",
        "\n",
        "print(max(a,b,c,d,e))"
      ],
      "metadata": {
        "colab": {
          "base_uri": "https://localhost:8080/"
        },
        "id": "ZgdqIxSDyC1h",
        "outputId": "26e5c840-cb3b-4191-ecc1-499369254c65"
      },
      "execution_count": 4,
      "outputs": [
        {
          "output_type": "stream",
          "name": "stdout",
          "text": [
            "50\n"
          ]
        }
      ]
    }
  ]
}
