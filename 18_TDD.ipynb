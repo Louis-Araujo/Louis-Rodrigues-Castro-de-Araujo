{
  "nbformat": 4,
  "nbformat_minor": 0,
  "metadata": {
    "colab": {
      "provenance": [],
      "authorship_tag": "ABX9TyO5626o7a4EzYMzFZrPqJoH",
      "include_colab_link": true
    },
    "kernelspec": {
      "name": "python3",
      "display_name": "Python 3"
    },
    "language_info": {
      "name": "python"
    }
  },
  "cells": [
    {
      "cell_type": "markdown",
      "metadata": {
        "id": "view-in-github",
        "colab_type": "text"
      },
      "source": [
        "<a href=\"https://colab.research.google.com/github/Louis-Araujo/Louis-Rodrigues-Castro-de-Araujo/blob/main/18_TDD.ipynb\" target=\"_parent\"><img src=\"https://colab.research.google.com/assets/colab-badge.svg\" alt=\"Open In Colab\"/></a>"
      ]
    },
    {
      "cell_type": "code",
      "execution_count": null,
      "metadata": {
        "id": "16f040LNl6D5"
      },
      "outputs": [],
      "source": [
        "# TDD - O teste-Driven Development (TDD), ou Desenvolvimento Orientado a Testes,\n",
        "# é uma metodologia de desenvolvmento de software que enfatiza a criação e execução de testes antes mesmo do desenvolvimento do código\n",
        "\n",
        "# Programa para avaliar a saída de uma função dado uma entrada\n",
        "import random\n",
        "\n",
        "# Esqueleto de uma função para gerar uma lista de 28 números aleatórios entre 1 e 1000\n",
        "def gerar_lista_aleatoria():\n",
        "  pass\n",
        "\n",
        "# Esqueleto de uma função para gerar uma lista de 28 números aleatórios distintos entre 1 e 1000\n",
        "def gerar_lista_aleatoria():\n",
        "  pass\n",
        "\n",
        "# Esqueleto de uma função para embaralhar a lista\n",
        "def embaralhar_lista():\n",
        "  pass"
      ]
    }
  ]
}