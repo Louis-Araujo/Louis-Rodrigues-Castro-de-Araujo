{
  "nbformat": 4,
  "nbformat_minor": 0,
  "metadata": {
    "colab": {
      "provenance": [],
      "authorship_tag": "ABX9TyO1sdt3lwsqkdR+sCe8Bgye",
      "include_colab_link": true
    },
    "kernelspec": {
      "name": "python3",
      "display_name": "Python 3"
    },
    "language_info": {
      "name": "python"
    }
  },
  "cells": [
    {
      "cell_type": "markdown",
      "metadata": {
        "id": "view-in-github",
        "colab_type": "text"
      },
      "source": [
        "<a href=\"https://colab.research.google.com/github/Louis-Araujo/Louis-Rodrigues-Castro-de-Araujo/blob/main/test_atividade06_questao4_py.ipynb\" target=\"_parent\"><img src=\"https://colab.research.google.com/assets/colab-badge.svg\" alt=\"Open In Colab\"/></a>"
      ]
    },
    {
      "cell_type": "code",
      "execution_count": null,
      "metadata": {
        "id": "nIsYga1-1CWP"
      },
      "outputs": [],
      "source": [
        "python\n",
        "Copiar código\n",
        "import unittest\n",
        "from atividade06 import soma_matrizes\n",
        "class TestSomaMatrizes(unittest.TestCase):\n",
        "def test_soma_matrizes(self):\n",
        "m1 = [[1, 2], [3, 4]]\n",
        "m2 = [[5, 6], [7, 8]]\n",
        "resultado = soma_matrizes(m1, m2)\n",
        "self.assertEqual(resultado, [[6, 8], [10, 12]])\n",
        "m1 = [[0, 0], [0, 0]]\n",
        "m2 = [[1, 2], [3, 4]]\n",
        "resultado = soma_matrizes(m1, m2)\n",
        "self.assertEqual(resultado, [[1, 2], [3, 4]])\n",
        "m1 = [[-1, -2], [-3, -4]]\n",
        "m2 = [[1, 2], [3, 4]]\n",
        "resultado = soma_matrizes(m1, m2)\n",
        "self.assertEqual(resultado, [[0, 0], [0, 0]])\n",
        "if __name__ == &#39;__main__&#39;:\n",
        "unittest.main()"
      ]
    }
  ]
}